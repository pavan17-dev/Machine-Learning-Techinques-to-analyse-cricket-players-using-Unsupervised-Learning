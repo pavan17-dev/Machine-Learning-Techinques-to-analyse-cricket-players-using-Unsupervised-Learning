{
 "cells": [
  {
   "cell_type": "code",
   "execution_count": 1,
   "id": "d49203cc",
   "metadata": {},
   "outputs": [],
   "source": [
    "# importing libraries\n",
    "import numpy as np\n",
    "import pandas as pd\n",
    "import matplotlib.pyplot as plt"
   ]
  },
  {
   "cell_type": "code",
   "execution_count": 2,
   "id": "9664892f",
   "metadata": {},
   "outputs": [],
   "source": [
    "# loading dataset\n",
    "ipl_teams_df = pd.read_csv(\"updated_ipl_2022_bat_and_ball.csv\")"
   ]
  },
  {
   "cell_type": "code",
   "execution_count": 3,
   "id": "f015aed8",
   "metadata": {},
   "outputs": [
    {
     "data": {
      "text/html": [
       "<div>\n",
       "<style scoped>\n",
       "    .dataframe tbody tr th:only-of-type {\n",
       "        vertical-align: middle;\n",
       "    }\n",
       "\n",
       "    .dataframe tbody tr th {\n",
       "        vertical-align: top;\n",
       "    }\n",
       "\n",
       "    .dataframe thead th {\n",
       "        text-align: right;\n",
       "    }\n",
       "</style>\n",
       "<table border=\"1\" class=\"dataframe\">\n",
       "  <thead>\n",
       "    <tr style=\"text-align: right;\">\n",
       "      <th></th>\n",
       "      <th>S.No</th>\n",
       "      <th>Team</th>\n",
       "      <th>M</th>\n",
       "      <th>I</th>\n",
       "      <th>R</th>\n",
       "      <th>B</th>\n",
       "      <th>Outs</th>\n",
       "      <th>Avg</th>\n",
       "      <th>SR</th>\n",
       "      <th>HS</th>\n",
       "      <th>...</th>\n",
       "      <th>W</th>\n",
       "      <th>Econ</th>\n",
       "      <th>Bowling Avg</th>\n",
       "      <th>Bowling SR</th>\n",
       "      <th>fours given</th>\n",
       "      <th>sixs given</th>\n",
       "      <th>dots</th>\n",
       "      <th>BP4G</th>\n",
       "      <th>BP6G</th>\n",
       "      <th>BPBG</th>\n",
       "    </tr>\n",
       "  </thead>\n",
       "  <tbody>\n",
       "    <tr>\n",
       "      <th>0</th>\n",
       "      <td>1</td>\n",
       "      <td>RR</td>\n",
       "      <td>17</td>\n",
       "      <td>17</td>\n",
       "      <td>2,807</td>\n",
       "      <td>2,025</td>\n",
       "      <td>97</td>\n",
       "      <td>28.94</td>\n",
       "      <td>138.62</td>\n",
       "      <td>222</td>\n",
       "      <td>...</td>\n",
       "      <td>104</td>\n",
       "      <td>8.51</td>\n",
       "      <td>27.23</td>\n",
       "      <td>19.19</td>\n",
       "      <td>241</td>\n",
       "      <td>113</td>\n",
       "      <td>770</td>\n",
       "      <td>8.28</td>\n",
       "      <td>17.66</td>\n",
       "      <td>5.64</td>\n",
       "    </tr>\n",
       "    <tr>\n",
       "      <th>1</th>\n",
       "      <td>2</td>\n",
       "      <td>GT</td>\n",
       "      <td>16</td>\n",
       "      <td>16</td>\n",
       "      <td>2,517</td>\n",
       "      <td>1,895</td>\n",
       "      <td>82</td>\n",
       "      <td>30.70</td>\n",
       "      <td>132.82</td>\n",
       "      <td>199</td>\n",
       "      <td>...</td>\n",
       "      <td>101</td>\n",
       "      <td>8.24</td>\n",
       "      <td>25.09</td>\n",
       "      <td>18.28</td>\n",
       "      <td>218</td>\n",
       "      <td>101</td>\n",
       "      <td>716</td>\n",
       "      <td>8.47</td>\n",
       "      <td>18.28</td>\n",
       "      <td>5.79</td>\n",
       "    </tr>\n",
       "    <tr>\n",
       "      <th>2</th>\n",
       "      <td>3</td>\n",
       "      <td>RCB</td>\n",
       "      <td>16</td>\n",
       "      <td>16</td>\n",
       "      <td>2,454</td>\n",
       "      <td>1,868</td>\n",
       "      <td>98</td>\n",
       "      <td>25.04</td>\n",
       "      <td>131.37</td>\n",
       "      <td>207</td>\n",
       "      <td>...</td>\n",
       "      <td>97</td>\n",
       "      <td>8.63</td>\n",
       "      <td>26.95</td>\n",
       "      <td>18.73</td>\n",
       "      <td>183</td>\n",
       "      <td>147</td>\n",
       "      <td>727</td>\n",
       "      <td>9.93</td>\n",
       "      <td>12.36</td>\n",
       "      <td>5.51</td>\n",
       "    </tr>\n",
       "  </tbody>\n",
       "</table>\n",
       "<p>3 rows × 28 columns</p>\n",
       "</div>"
      ],
      "text/plain": [
       "   S.No Team   M   I      R      B  Outs    Avg      SR   HS  ...    W  Econ  \\\n",
       "0     1   RR  17  17  2,807  2,025    97  28.94  138.62  222  ...  104  8.51   \n",
       "1     2   GT  16  16  2,517  1,895    82  30.70  132.82  199  ...  101  8.24   \n",
       "2     3  RCB  16  16  2,454  1,868    98  25.04  131.37  207  ...   97  8.63   \n",
       "\n",
       "   Bowling Avg  Bowling SR  fours given  sixs given dots  BP4G   BP6G  BPBG  \n",
       "0        27.23       19.19          241         113  770  8.28  17.66  5.64  \n",
       "1        25.09       18.28          218         101  716  8.47  18.28  5.79  \n",
       "2        26.95       18.73          183         147  727  9.93  12.36  5.51  \n",
       "\n",
       "[3 rows x 28 columns]"
      ]
     },
     "execution_count": 3,
     "metadata": {},
     "output_type": "execute_result"
    }
   ],
   "source": [
    "ipl_teams_df.head(3)"
   ]
  },
  {
   "cell_type": "code",
   "execution_count": 4,
   "id": "e13c2967",
   "metadata": {
    "scrolled": true
   },
   "outputs": [
    {
     "data": {
      "text/plain": [
       "(10, 28)"
      ]
     },
     "execution_count": 4,
     "metadata": {},
     "output_type": "execute_result"
    }
   ],
   "source": [
    "ipl_teams_df.shape"
   ]
  },
  {
   "cell_type": "code",
   "execution_count": 5,
   "id": "30c56b76",
   "metadata": {},
   "outputs": [
    {
     "data": {
      "text/plain": [
       "Index(['S.No', 'Team', 'M', 'I', 'R', 'B', 'Outs', 'Avg', 'SR', 'HS', 'fours',\n",
       "       'sixs', 'BPD', 'BP4', 'BP6', 'BPB', 'Runs Given', 'Balls Bowled', 'W',\n",
       "       'Econ', 'Bowling Avg', 'Bowling SR', 'fours given', 'sixs given',\n",
       "       'dots', 'BP4G', 'BP6G', 'BPBG'],\n",
       "      dtype='object')"
      ]
     },
     "execution_count": 5,
     "metadata": {},
     "output_type": "execute_result"
    }
   ],
   "source": [
    "ipl_teams_df.columns"
   ]
  },
  {
   "cell_type": "code",
   "execution_count": 6,
   "id": "7f252ff5",
   "metadata": {},
   "outputs": [
    {
     "data": {
      "text/plain": [
       "array([[1, 'RR', 17, 17, '2,807', '2,025', 97, 28.94, 138.62, 222, 251,\n",
       "        137, 20.88, 8.07, 14.78, 5.22, '2,832', '1,996', 104, 8.51,\n",
       "        27.23, 19.19, 241, 113, 770, 8.28, 17.66, 5.64],\n",
       "       [2, 'GT', 16, 16, '2,517', '1,895', 82, 30.7, 132.82, 199, 250,\n",
       "        79, 23.11, 7.58, 23.99, 5.76, '2,534', '1,846', 101, 8.24, 25.09,\n",
       "        18.28, 218, 101, 716, 8.47, 18.28, 5.79],\n",
       "       [3, 'RCB', 16, 16, '2,454', '1,868', 98, 25.04, 131.37, 207, 222,\n",
       "        102, 19.06, 8.41, 18.31, 5.77, '2,614', '1,817', 97, 8.63, 26.95,\n",
       "        18.73, 183, 147, 727, 9.93, 12.36, 5.51],\n",
       "       [4, 'LSG', 15, 15, '2,405', '1,758', 89, 27.02, 136.8, 211, 188,\n",
       "        115, 19.75, 9.35, 15.29, 5.8, '2,496', '1,765', 100, 8.48, 24.96,\n",
       "        17.65, 233, 94, 698, 7.58, 18.78, 5.4],\n",
       "       [5, 'DC', 14, 14, '2,218', '1,582', 81, 27.38, 140.2, 215, 205,\n",
       "        106, 19.53, 7.72, 14.92, 5.09, '2,397', '1,671', 88, 8.61, 27.24,\n",
       "        18.99, 206, 103, 617, 8.11, 16.22, 5.41],\n",
       "       [6, 'PBKS', 14, 14, '2,193', '1,611', 99, 22.15, 136.13, 209, 200,\n",
       "        110, 16.27, 8.06, 14.65, 5.2, '2,252', '1,569', 83, 8.61, 27.13,\n",
       "        18.9, 191, 91, 605, 8.21, 17.24, 5.56],\n",
       "       [7, 'CSK', 14, 14, '2,165', '1,644', 88, 24.6, 131.69, 216, 184,\n",
       "        103, 18.68, 8.93, 15.96, 5.73, '2,254', '1,601', 82, 8.45, 27.49,\n",
       "        19.52, 186, 86, 601, 8.61, 18.62, 5.89],\n",
       "       [8, 'KKR', 14, 14, '2,109', '1,565', 104, 20.28, 134.76, 210, 177,\n",
       "        113, 15.05, 8.84, 13.85, 5.4, '2,249', '1,632', 84, 8.27, 26.77,\n",
       "        19.43, 171, 104, 656, 9.54, 15.69, 5.93],\n",
       "       [9, 'MI', 14, 14, '2,100', '1,625', 94, 22.34, 129.23, 190, 173,\n",
       "        100, 17.29, 9.39, 16.25, 5.95, '2,351', '1,613', 87, 8.75, 27.02,\n",
       "        18.54, 192, 111, 634, 8.4, 14.53, 5.32],\n",
       "       [10, 'SRH', 14, 14, '2,084', '1,565', 80, 26.05, 133.16, 195, 170,\n",
       "        97, 19.56, 9.21, 16.13, 5.86, '2,416', '1,628', 86, 8.9, 28.09,\n",
       "        18.93, 199, 112, 641, 8.18, 14.54, 5.23]], dtype=object)"
      ]
     },
     "execution_count": 6,
     "metadata": {},
     "output_type": "execute_result"
    }
   ],
   "source": [
    "ipl_teams_df.values"
   ]
  },
  {
   "cell_type": "code",
   "execution_count": 7,
   "id": "654be681",
   "metadata": {},
   "outputs": [
    {
     "data": {
      "text/plain": [
       "RangeIndex(start=0, stop=10, step=1)"
      ]
     },
     "execution_count": 7,
     "metadata": {},
     "output_type": "execute_result"
    }
   ],
   "source": [
    "ipl_teams_df.index"
   ]
  },
  {
   "cell_type": "code",
   "execution_count": 10,
   "id": "ef8130da",
   "metadata": {},
   "outputs": [
    {
     "name": "stdout",
     "output_type": "stream",
     "text": [
      "['deeppink', 'mediumpurple', 'green', 'skyblue', 'royalblue', 'red', 'yellow', 'purple', 'blue', 'orange']\n"
     ]
    }
   ],
   "source": [
    "colors = []\n",
    "# Iterate over rows of ipl_bowlers\n",
    "for idx, row in ipl_teams_df.iterrows():\n",
    "    if row['Team'] == \"CSK\" :\n",
    "        colors.append('yellow')\n",
    "    elif row['Team'] == \"RCB\" :\n",
    "        colors.append('green')\n",
    "    elif row['Team'] == \"RR\" :\n",
    "        colors.append('deeppink')\n",
    "    elif row[\"Team\"] == \"DC\":\n",
    "        colors.append('royalblue')\n",
    "    elif row[\"Team\"] == \"GT\":\n",
    "        colors.append(\"mediumpurple\")\n",
    "    elif row[\"Team\"] == 'PBKS':\n",
    "        colors.append('red')\n",
    "    elif row[\"Team\"] == \"KKR\":\n",
    "        colors.append('purple')\n",
    "    elif row[\"Team\"] == \"LSG\":\n",
    "        colors.append('skyblue')\n",
    "    elif row[\"Team\"] == \"MI\":\n",
    "        colors.append('blue')\n",
    "    elif row[\"Team\"] == \"SRH\":\n",
    "        colors.append('orange')\n",
    "    else:\n",
    "        colors.append('black')\n",
    "print(colors)"
   ]
  },
  {
   "cell_type": "code",
   "execution_count": 11,
   "id": "112d1f61",
   "metadata": {},
   "outputs": [
    {
     "data": {
      "image/png": "[encoded data removed]",
      "text/plain": [
       "<Figure size 864x288 with 1 Axes>"
      ]
     },
     "metadata": {
      "needs_background": "light"
     },
     "output_type": "display_data"
    }
   ],
   "source": [
    "# create scatter plot for IPL teams on there economy and batting strikerate\n",
    "fig = plt.figure(figsize=(12,4))\n",
    "x = ipl_teams_df[\"Econ\"]\n",
    "y = ipl_teams_df[\"SR\"]\n",
    "plt.scatter(x,y,c=colors,s=100)\n",
    "plt.title(\"Economy and batting strike rate of teams in ipl 2022\")\n",
    "plt.xlabel(\"Economy of the team\")\n",
    "plt.ylabel(\"Batting strike rate of the player\")\n",
    "for i, label in enumerate(ipl_teams_df['Team']):\n",
    "    plt.annotate(label,(x[i], y[i]))\n",
    "plt.show()"
   ]
  },
  {
   "cell_type": "code",
   "execution_count": 12,
   "id": "53eec0e2",
   "metadata": {},
   "outputs": [
    {
     "data": {
      "image/png": "[encoded data removed]",
      "text/plain": [
       "<Figure size 864x288 with 1 Axes>"
      ]
     },
     "metadata": {
      "needs_background": "light"
     },
     "output_type": "display_data"
    }
   ],
   "source": [
    "# create scatter plot for IPL teams on there economy and batting strikerate\n",
    "fig = plt.figure(figsize=(12,4))\n",
    "x = ipl_teams_df[\"BPB\"]\n",
    "y = ipl_teams_df[\"BPBG\"]\n",
    "plt.scatter(x,y,c=colors,s=100)\n",
    "plt.title(\"Balls per boundary and Balls per boundary given by teams in ipl 2022\")\n",
    "plt.xlabel(\"Balls per Boundary\")\n",
    "plt.ylabel(\"Balls per Boundary Given\")\n",
    "for i, label in enumerate(ipl_teams_df['Team']):\n",
    "    plt.annotate(label,(x[i], y[i]))\n",
    "plt.show()"
   ]
  },
  {
   "cell_type": "code",
   "execution_count": 13,
   "id": "8392d1f5",
   "metadata": {},
   "outputs": [
    {
     "data": {
      "image/png": "[encoded data removed]",
      "text/plain": [
       "<Figure size 864x288 with 1 Axes>"
      ]
     },
     "metadata": {
      "needs_background": "light"
     },
     "output_type": "display_data"
    }
   ],
   "source": [
    "# create scatter plot for IPL teams on there economy and batting strikerate\n",
    "fig = plt.figure(figsize=(12,4))\n",
    "x = ipl_teams_df[\"Bowling SR\"]\n",
    "y = ipl_teams_df[\"SR\"]\n",
    "plt.scatter(x,y,c=colors,s=100)\n",
    "plt.title(\"Boundary strike and Batting strike by teams in ipl 2022\")\n",
    "plt.xlabel(\"Bounfay\")\n",
    "plt.ylabel(\"Balls per Boundary Given\")\n",
    "for i, label in enumerate(ipl_teams_df['Team']):\n",
    "    plt.annotate(label,(x[i], y[i]))\n",
    "plt.show()"
   ]
  },
  {
   "cell_type": "code",
   "execution_count": null,
   "id": "060919cf",
   "metadata": {},
   "outputs": [],
   "source": []
  }
 ],
 "metadata": {
  "kernelspec": {
   "display_name": "Python 3 (ipykernel)",
   "language": "python",
   "name": "python3"
  },
  "language_info": {
   "codemirror_mode": {
    "name": "ipython",
    "version": 3
   },
   "file_extension": ".py",
   "mimetype": "text/x-python",
   "name": "python",
   "nbconvert_exporter": "python",
   "pygments_lexer": "ipython3",
   "version": "3.9.12"
  }
 },
 "nbformat": 4,
 "nbformat_minor": 5
}
