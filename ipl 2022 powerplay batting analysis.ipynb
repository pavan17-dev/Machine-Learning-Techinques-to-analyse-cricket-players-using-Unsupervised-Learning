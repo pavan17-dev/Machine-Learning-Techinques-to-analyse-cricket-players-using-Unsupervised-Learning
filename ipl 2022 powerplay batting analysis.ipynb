{
 "cells": [
  {
   "cell_type": "markdown",
   "id": "3a9cfddf",
   "metadata": {},
   "source": [
    "## Importing libraries"
   ]
  },
  {
   "cell_type": "code",
   "execution_count": 1,
   "id": "bd75a718",
   "metadata": {},
   "outputs": [],
   "source": [
    "import numpy as np\n",
    "import pandas as pd\n",
    "import matplotlib.pyplot as plt"
   ]
  },
  {
   "cell_type": "markdown",
   "id": "e4e4408c",
   "metadata": {},
   "source": [
    "## Loading Data set"
   ]
  },
  {
   "cell_type": "code",
   "execution_count": 2,
   "id": "23a3755e",
   "metadata": {},
   "outputs": [],
   "source": [
    "powerplay_batting = pd.read_csv(\"IPL_2022_updated_Power_play_batting.csv\")"
   ]
  },
  {
   "cell_type": "markdown",
   "id": "605f0ace",
   "metadata": {},
   "source": [
    "## Inspecting Dataframe using head(),info(),shape,describe()"
   ]
  },
  {
   "cell_type": "code",
   "execution_count": 3,
   "id": "d427b64a",
   "metadata": {},
   "outputs": [
    {
     "data": {
      "text/html": [
       "<div>\n",
       "<style scoped>\n",
       "    .dataframe tbody tr th:only-of-type {\n",
       "        vertical-align: middle;\n",
       "    }\n",
       "\n",
       "    .dataframe tbody tr th {\n",
       "        vertical-align: top;\n",
       "    }\n",
       "\n",
       "    .dataframe thead th {\n",
       "        text-align: right;\n",
       "    }\n",
       "</style>\n",
       "<table border=\"1\" class=\"dataframe\">\n",
       "  <thead>\n",
       "    <tr style=\"text-align: right;\">\n",
       "      <th></th>\n",
       "      <th>Player</th>\n",
       "      <th>Team</th>\n",
       "      <th>BT</th>\n",
       "      <th>I</th>\n",
       "      <th>R</th>\n",
       "      <th>B</th>\n",
       "      <th>Outs</th>\n",
       "      <th>Avg</th>\n",
       "      <th>SR</th>\n",
       "      <th>HS</th>\n",
       "      <th>...</th>\n",
       "      <th>BP4</th>\n",
       "      <th>BP6</th>\n",
       "      <th>BPB</th>\n",
       "      <th>RWOB</th>\n",
       "      <th>NBB</th>\n",
       "      <th>NBSTR</th>\n",
       "      <th>Runs From 4's %</th>\n",
       "      <th>Runs From 6's %</th>\n",
       "      <th>Runs From Bound %</th>\n",
       "      <th>other runs %</th>\n",
       "    </tr>\n",
       "  </thead>\n",
       "  <tbody>\n",
       "    <tr>\n",
       "      <th>0</th>\n",
       "      <td>KS Williamson</td>\n",
       "      <td>SRH</td>\n",
       "      <td>RHB</td>\n",
       "      <td>11</td>\n",
       "      <td>110</td>\n",
       "      <td>144</td>\n",
       "      <td>8</td>\n",
       "      <td>13.75</td>\n",
       "      <td>76.39</td>\n",
       "      <td>18</td>\n",
       "      <td>...</td>\n",
       "      <td>13.09</td>\n",
       "      <td>48.00</td>\n",
       "      <td>10.29</td>\n",
       "      <td>48</td>\n",
       "      <td>130</td>\n",
       "      <td>36.92</td>\n",
       "      <td>40.0%</td>\n",
       "      <td>16.4%</td>\n",
       "      <td>56.4%</td>\n",
       "      <td>43.6%</td>\n",
       "    </tr>\n",
       "    <tr>\n",
       "      <th>1</th>\n",
       "      <td>Anuj Rawat</td>\n",
       "      <td>RCB</td>\n",
       "      <td>LHB</td>\n",
       "      <td>8</td>\n",
       "      <td>77</td>\n",
       "      <td>83</td>\n",
       "      <td>5</td>\n",
       "      <td>15.40</td>\n",
       "      <td>92.77</td>\n",
       "      <td>22</td>\n",
       "      <td>...</td>\n",
       "      <td>10.38</td>\n",
       "      <td>27.67</td>\n",
       "      <td>7.55</td>\n",
       "      <td>27</td>\n",
       "      <td>72</td>\n",
       "      <td>37.50</td>\n",
       "      <td>41.6%</td>\n",
       "      <td>23.4%</td>\n",
       "      <td>64.9%</td>\n",
       "      <td>35.1%</td>\n",
       "    </tr>\n",
       "    <tr>\n",
       "      <th>2</th>\n",
       "      <td>AM Rahane</td>\n",
       "      <td>KKR</td>\n",
       "      <td>RHB</td>\n",
       "      <td>7</td>\n",
       "      <td>92</td>\n",
       "      <td>95</td>\n",
       "      <td>4</td>\n",
       "      <td>23.00</td>\n",
       "      <td>96.84</td>\n",
       "      <td>27</td>\n",
       "      <td>...</td>\n",
       "      <td>9.50</td>\n",
       "      <td>31.67</td>\n",
       "      <td>7.31</td>\n",
       "      <td>34</td>\n",
       "      <td>82</td>\n",
       "      <td>41.46</td>\n",
       "      <td>43.5%</td>\n",
       "      <td>19.6%</td>\n",
       "      <td>63.0%</td>\n",
       "      <td>37.0%</td>\n",
       "    </tr>\n",
       "    <tr>\n",
       "      <th>3</th>\n",
       "      <td>D Padikkal</td>\n",
       "      <td>RR</td>\n",
       "      <td>LHB</td>\n",
       "      <td>9</td>\n",
       "      <td>100</td>\n",
       "      <td>97</td>\n",
       "      <td>5</td>\n",
       "      <td>20.00</td>\n",
       "      <td>103.09</td>\n",
       "      <td>25</td>\n",
       "      <td>...</td>\n",
       "      <td>6.93</td>\n",
       "      <td>48.50</td>\n",
       "      <td>6.06</td>\n",
       "      <td>32</td>\n",
       "      <td>81</td>\n",
       "      <td>39.51</td>\n",
       "      <td>56.0%</td>\n",
       "      <td>12.0%</td>\n",
       "      <td>68.0%</td>\n",
       "      <td>32.0%</td>\n",
       "    </tr>\n",
       "    <tr>\n",
       "      <th>4</th>\n",
       "      <td>KL Rahul</td>\n",
       "      <td>LSG</td>\n",
       "      <td>RHB</td>\n",
       "      <td>14</td>\n",
       "      <td>203</td>\n",
       "      <td>196</td>\n",
       "      <td>6</td>\n",
       "      <td>33.83</td>\n",
       "      <td>103.57</td>\n",
       "      <td>27</td>\n",
       "      <td>...</td>\n",
       "      <td>10.89</td>\n",
       "      <td>24.50</td>\n",
       "      <td>7.54</td>\n",
       "      <td>83</td>\n",
       "      <td>170</td>\n",
       "      <td>48.82</td>\n",
       "      <td>35.5%</td>\n",
       "      <td>23.6%</td>\n",
       "      <td>59.1%</td>\n",
       "      <td>40.9%</td>\n",
       "    </tr>\n",
       "  </tbody>\n",
       "</table>\n",
       "<p>5 rows × 24 columns</p>\n",
       "</div>"
      ],
      "text/plain": [
       "          Player Team   BT   I    R    B  Outs    Avg      SR  HS  ...    BP4  \\\n",
       "0  KS Williamson  SRH  RHB  11  110  144     8  13.75   76.39  18  ...  13.09   \n",
       "1     Anuj Rawat  RCB  LHB   8   77   83     5  15.40   92.77  22  ...  10.38   \n",
       "2      AM Rahane  KKR  RHB   7   92   95     4  23.00   96.84  27  ...   9.50   \n",
       "3     D Padikkal   RR  LHB   9  100   97     5  20.00  103.09  25  ...   6.93   \n",
       "4       KL Rahul  LSG  RHB  14  203  196     6  33.83  103.57  27  ...  10.89   \n",
       "\n",
       "     BP6    BPB  RWOB  NBB  NBSTR  Runs From 4's %  Runs From 6's %  \\\n",
       "0  48.00  10.29    48  130  36.92            40.0%            16.4%   \n",
       "1  27.67   7.55    27   72  37.50            41.6%            23.4%   \n",
       "2  31.67   7.31    34   82  41.46            43.5%            19.6%   \n",
       "3  48.50   6.06    32   81  39.51            56.0%            12.0%   \n",
       "4  24.50   7.54    83  170  48.82            35.5%            23.6%   \n",
       "\n",
       "   Runs From Bound %  other runs %  \n",
       "0              56.4%         43.6%  \n",
       "1              64.9%         35.1%  \n",
       "2              63.0%         37.0%  \n",
       "3              68.0%         32.0%  \n",
       "4              59.1%         40.9%  \n",
       "\n",
       "[5 rows x 24 columns]"
      ]
     },
     "execution_count": 3,
     "metadata": {},
     "output_type": "execute_result"
    }
   ],
   "source": [
    "powerplay_batting.head(5)"
   ]
  },
  {
   "cell_type": "code",
   "execution_count": 4,
   "id": "3f5d6d40",
   "metadata": {},
   "outputs": [
    {
     "name": "stdout",
     "output_type": "stream",
     "text": [
      "<class 'pandas.core.frame.DataFrame'>\n",
      "RangeIndex: 30 entries, 0 to 29\n",
      "Data columns (total 24 columns):\n",
      " #   Column             Non-Null Count  Dtype  \n",
      "---  ------             --------------  -----  \n",
      " 0   Player             30 non-null     object \n",
      " 1   Team               30 non-null     object \n",
      " 2   BT                 30 non-null     object \n",
      " 3   I                  30 non-null     int64  \n",
      " 4   R                  30 non-null     int64  \n",
      " 5   B                  30 non-null     int64  \n",
      " 6   Outs               30 non-null     int64  \n",
      " 7   Avg                30 non-null     float64\n",
      " 8   SR                 30 non-null     float64\n",
      " 9   HS                 30 non-null     int64  \n",
      " 10  4s                 30 non-null     int64  \n",
      " 11  6s                 30 non-null     int64  \n",
      " 12  50                 30 non-null     int64  \n",
      " 13  100                30 non-null     int64  \n",
      " 14  BP4                30 non-null     float64\n",
      " 15  BP6                30 non-null     float64\n",
      " 16  BPB                30 non-null     float64\n",
      " 17  RWOB               30 non-null     int64  \n",
      " 18  NBB                30 non-null     int64  \n",
      " 19  NBSTR              30 non-null     float64\n",
      " 20  Runs From 4's %    30 non-null     object \n",
      " 21  Runs From 6's %    30 non-null     object \n",
      " 22  Runs From Bound %  30 non-null     object \n",
      " 23  other runs %       30 non-null     object \n",
      "dtypes: float64(6), int64(11), object(7)\n",
      "memory usage: 5.8+ KB\n"
     ]
    }
   ],
   "source": [
    "powerplay_batting.info()"
   ]
  },
  {
   "cell_type": "code",
   "execution_count": 5,
   "id": "4f4bb2d5",
   "metadata": {},
   "outputs": [
    {
     "data": {
      "text/plain": [
       "(30, 24)"
      ]
     },
     "execution_count": 5,
     "metadata": {},
     "output_type": "execute_result"
    }
   ],
   "source": [
    "powerplay_batting.shape"
   ]
  },
  {
   "cell_type": "code",
   "execution_count": 6,
   "id": "b11fbc15",
   "metadata": {},
   "outputs": [
    {
     "data": {
      "text/html": [
       "<div>\n",
       "<style scoped>\n",
       "    .dataframe tbody tr th:only-of-type {\n",
       "        vertical-align: middle;\n",
       "    }\n",
       "\n",
       "    .dataframe tbody tr th {\n",
       "        vertical-align: top;\n",
       "    }\n",
       "\n",
       "    .dataframe thead th {\n",
       "        text-align: right;\n",
       "    }\n",
       "</style>\n",
       "<table border=\"1\" class=\"dataframe\">\n",
       "  <thead>\n",
       "    <tr style=\"text-align: right;\">\n",
       "      <th></th>\n",
       "      <th>I</th>\n",
       "      <th>R</th>\n",
       "      <th>B</th>\n",
       "      <th>Outs</th>\n",
       "      <th>Avg</th>\n",
       "      <th>SR</th>\n",
       "      <th>HS</th>\n",
       "      <th>4s</th>\n",
       "      <th>6s</th>\n",
       "      <th>50</th>\n",
       "      <th>100</th>\n",
       "      <th>BP4</th>\n",
       "      <th>BP6</th>\n",
       "      <th>BPB</th>\n",
       "      <th>RWOB</th>\n",
       "      <th>NBB</th>\n",
       "      <th>NBSTR</th>\n",
       "    </tr>\n",
       "  </thead>\n",
       "  <tbody>\n",
       "    <tr>\n",
       "      <th>count</th>\n",
       "      <td>30.000000</td>\n",
       "      <td>30.000000</td>\n",
       "      <td>30.000000</td>\n",
       "      <td>30.000000</td>\n",
       "      <td>30.000000</td>\n",
       "      <td>30.000000</td>\n",
       "      <td>30.000000</td>\n",
       "      <td>30.000000</td>\n",
       "      <td>30.000000</td>\n",
       "      <td>30.000000</td>\n",
       "      <td>30.0</td>\n",
       "      <td>30.000000</td>\n",
       "      <td>30.000000</td>\n",
       "      <td>30.000000</td>\n",
       "      <td>30.000000</td>\n",
       "      <td>30.000000</td>\n",
       "      <td>30.000000</td>\n",
       "    </tr>\n",
       "    <tr>\n",
       "      <th>mean</th>\n",
       "      <td>11.266667</td>\n",
       "      <td>172.266667</td>\n",
       "      <td>140.066667</td>\n",
       "      <td>5.233333</td>\n",
       "      <td>39.129000</td>\n",
       "      <td>123.162667</td>\n",
       "      <td>34.933333</td>\n",
       "      <td>21.433333</td>\n",
       "      <td>5.966667</td>\n",
       "      <td>0.066667</td>\n",
       "      <td>0.0</td>\n",
       "      <td>7.137667</td>\n",
       "      <td>30.366333</td>\n",
       "      <td>5.426000</td>\n",
       "      <td>50.733333</td>\n",
       "      <td>112.666667</td>\n",
       "      <td>44.715333</td>\n",
       "    </tr>\n",
       "    <tr>\n",
       "      <th>std</th>\n",
       "      <td>3.004977</td>\n",
       "      <td>67.102050</td>\n",
       "      <td>50.632505</td>\n",
       "      <td>2.314621</td>\n",
       "      <td>23.893934</td>\n",
       "      <td>20.212250</td>\n",
       "      <td>9.391608</td>\n",
       "      <td>9.291017</td>\n",
       "      <td>3.872835</td>\n",
       "      <td>0.253708</td>\n",
       "      <td>0.0</td>\n",
       "      <td>2.315249</td>\n",
       "      <td>16.953028</td>\n",
       "      <td>1.487406</td>\n",
       "      <td>20.395965</td>\n",
       "      <td>41.532981</td>\n",
       "      <td>6.360350</td>\n",
       "    </tr>\n",
       "    <tr>\n",
       "      <th>min</th>\n",
       "      <td>6.000000</td>\n",
       "      <td>77.000000</td>\n",
       "      <td>75.000000</td>\n",
       "      <td>0.000000</td>\n",
       "      <td>13.750000</td>\n",
       "      <td>76.390000</td>\n",
       "      <td>18.000000</td>\n",
       "      <td>7.000000</td>\n",
       "      <td>2.000000</td>\n",
       "      <td>0.000000</td>\n",
       "      <td>0.0</td>\n",
       "      <td>4.240000</td>\n",
       "      <td>10.630000</td>\n",
       "      <td>3.120000</td>\n",
       "      <td>23.000000</td>\n",
       "      <td>60.000000</td>\n",
       "      <td>32.860000</td>\n",
       "    </tr>\n",
       "    <tr>\n",
       "      <th>25%</th>\n",
       "      <td>9.000000</td>\n",
       "      <td>117.000000</td>\n",
       "      <td>97.000000</td>\n",
       "      <td>4.000000</td>\n",
       "      <td>23.480000</td>\n",
       "      <td>112.005000</td>\n",
       "      <td>29.250000</td>\n",
       "      <td>14.500000</td>\n",
       "      <td>3.000000</td>\n",
       "      <td>0.000000</td>\n",
       "      <td>0.0</td>\n",
       "      <td>5.350000</td>\n",
       "      <td>17.162500</td>\n",
       "      <td>4.380000</td>\n",
       "      <td>34.250000</td>\n",
       "      <td>76.500000</td>\n",
       "      <td>38.625000</td>\n",
       "    </tr>\n",
       "    <tr>\n",
       "      <th>50%</th>\n",
       "      <td>11.000000</td>\n",
       "      <td>169.500000</td>\n",
       "      <td>130.500000</td>\n",
       "      <td>5.000000</td>\n",
       "      <td>34.115000</td>\n",
       "      <td>121.350000</td>\n",
       "      <td>33.000000</td>\n",
       "      <td>20.500000</td>\n",
       "      <td>5.000000</td>\n",
       "      <td>0.000000</td>\n",
       "      <td>0.0</td>\n",
       "      <td>6.590000</td>\n",
       "      <td>23.285000</td>\n",
       "      <td>5.145000</td>\n",
       "      <td>47.500000</td>\n",
       "      <td>104.500000</td>\n",
       "      <td>44.945000</td>\n",
       "    </tr>\n",
       "    <tr>\n",
       "      <th>75%</th>\n",
       "      <td>14.000000</td>\n",
       "      <td>217.000000</td>\n",
       "      <td>182.750000</td>\n",
       "      <td>6.750000</td>\n",
       "      <td>45.187500</td>\n",
       "      <td>136.347500</td>\n",
       "      <td>41.250000</td>\n",
       "      <td>27.750000</td>\n",
       "      <td>8.000000</td>\n",
       "      <td>0.000000</td>\n",
       "      <td>0.0</td>\n",
       "      <td>8.067500</td>\n",
       "      <td>44.125000</td>\n",
       "      <td>6.067500</td>\n",
       "      <td>69.250000</td>\n",
       "      <td>148.250000</td>\n",
       "      <td>49.715000</td>\n",
       "    </tr>\n",
       "    <tr>\n",
       "      <th>max</th>\n",
       "      <td>17.000000</td>\n",
       "      <td>374.000000</td>\n",
       "      <td>280.000000</td>\n",
       "      <td>9.000000</td>\n",
       "      <td>123.000000</td>\n",
       "      <td>170.750000</td>\n",
       "      <td>59.000000</td>\n",
       "      <td>43.000000</td>\n",
       "      <td>20.000000</td>\n",
       "      <td>1.000000</td>\n",
       "      <td>0.0</td>\n",
       "      <td>13.090000</td>\n",
       "      <td>67.670000</td>\n",
       "      <td>10.290000</td>\n",
       "      <td>86.000000</td>\n",
       "      <td>217.000000</td>\n",
       "      <td>60.440000</td>\n",
       "    </tr>\n",
       "  </tbody>\n",
       "</table>\n",
       "</div>"
      ],
      "text/plain": [
       "               I           R           B       Outs         Avg          SR  \\\n",
       "count  30.000000   30.000000   30.000000  30.000000   30.000000   30.000000   \n",
       "mean   11.266667  172.266667  140.066667   5.233333   39.129000  123.162667   \n",
       "std     3.004977   67.102050   50.632505   2.314621   23.893934   20.212250   \n",
       "min     6.000000   77.000000   75.000000   0.000000   13.750000   76.390000   \n",
       "25%     9.000000  117.000000   97.000000   4.000000   23.480000  112.005000   \n",
       "50%    11.000000  169.500000  130.500000   5.000000   34.115000  121.350000   \n",
       "75%    14.000000  217.000000  182.750000   6.750000   45.187500  136.347500   \n",
       "max    17.000000  374.000000  280.000000   9.000000  123.000000  170.750000   \n",
       "\n",
       "              HS         4s         6s         50   100        BP4        BP6  \\\n",
       "count  30.000000  30.000000  30.000000  30.000000  30.0  30.000000  30.000000   \n",
       "mean   34.933333  21.433333   5.966667   0.066667   0.0   7.137667  30.366333   \n",
       "std     9.391608   9.291017   3.872835   0.253708   0.0   2.315249  16.953028   \n",
       "min    18.000000   7.000000   2.000000   0.000000   0.0   4.240000  10.630000   \n",
       "25%    29.250000  14.500000   3.000000   0.000000   0.0   5.350000  17.162500   \n",
       "50%    33.000000  20.500000   5.000000   0.000000   0.0   6.590000  23.285000   \n",
       "75%    41.250000  27.750000   8.000000   0.000000   0.0   8.067500  44.125000   \n",
       "max    59.000000  43.000000  20.000000   1.000000   0.0  13.090000  67.670000   \n",
       "\n",
       "             BPB       RWOB         NBB      NBSTR  \n",
       "count  30.000000  30.000000   30.000000  30.000000  \n",
       "mean    5.426000  50.733333  112.666667  44.715333  \n",
       "std     1.487406  20.395965   41.532981   6.360350  \n",
       "min     3.120000  23.000000   60.000000  32.860000  \n",
       "25%     4.380000  34.250000   76.500000  38.625000  \n",
       "50%     5.145000  47.500000  104.500000  44.945000  \n",
       "75%     6.067500  69.250000  148.250000  49.715000  \n",
       "max    10.290000  86.000000  217.000000  60.440000  "
      ]
     },
     "execution_count": 6,
     "metadata": {},
     "output_type": "execute_result"
    }
   ],
   "source": [
    "powerplay_batting.describe()"
   ]
  },
  {
   "cell_type": "markdown",
   "id": "380754a6",
   "metadata": {},
   "source": [
    "## Parts of dataframe using .values,.columns,.index"
   ]
  },
  {
   "cell_type": "code",
   "execution_count": 7,
   "id": "a46fa7e6",
   "metadata": {},
   "outputs": [
    {
     "data": {
      "text/plain": [
       "array([['KS Williamson', 'SRH', 'RHB', 11, 110, 144, 8, 13.75, 76.39, 18,\n",
       "        11, 3, 0, 0, 13.09, 48.0, 10.29, 48, 130, 36.92, '40.0%',\n",
       "        '16.4%', '56.4%', '43.6%'],\n",
       "       ['Anuj Rawat', 'RCB', 'LHB', 8, 77, 83, 5, 15.4, 92.77, 22, 8, 3,\n",
       "        0, 0, 10.38, 27.67, 7.55, 27, 72, 37.5, '41.6%', '23.4%',\n",
       "        '64.9%', '35.1%'],\n",
       "       ['AM Rahane', 'KKR', 'RHB', 7, 92, 95, 4, 23.0, 96.84, 27, 10, 3,\n",
       "        0, 0, 9.5, 31.67, 7.31, 34, 82, 41.46, '43.5%', '19.6%', '63.0%',\n",
       "        '37.0%'],\n",
       "       ['D Padikkal', 'RR', 'LHB', 9, 100, 97, 5, 20.0, 103.09, 25, 14,\n",
       "        2, 0, 0, 6.93, 48.5, 6.06, 32, 81, 39.51, '56.0%', '12.0%',\n",
       "        '68.0%', '32.0%'],\n",
       "       ['KL Rahul', 'LSG', 'RHB', 14, 203, 196, 6, 33.83, 103.57, 27, 18,\n",
       "        8, 0, 0, 10.89, 24.5, 7.54, 83, 170, 48.82, '35.5%', '23.6%',\n",
       "        '59.1%', '40.9%'],\n",
       "       ['F du Plessis', 'RCB', 'RHB', 16, 201, 192, 7, 28.71, 104.69, 35,\n",
       "        28, 3, 0, 0, 6.86, 64.0, 6.19, 71, 161, 44.1, '55.7%', '9.0%',\n",
       "        '64.7%', '35.3%'],\n",
       "       ['VR Iyer', 'KKR', 'LHB', 10, 127, 121, 8, 15.88, 104.96, 43, 12,\n",
       "        6, 0, 0, 10.08, 20.17, 6.72, 43, 103, 41.75, '37.8%', '28.3%',\n",
       "        '66.1%', '33.9%'],\n",
       "       ['DP Conway', 'CSK', 'LHB', 7, 85, 76, 3, 28.33, 111.84, 29, 7, 4,\n",
       "        0, 0, 10.86, 19.0, 6.91, 33, 65, 50.77, '32.9%', '28.2%',\n",
       "        '61.2%', '38.8%'],\n",
       "       ['Ishan Kishan', 'MI', 'LHB', 14, 225, 200, 4, 56.25, 112.5, 31,\n",
       "        30, 5, 0, 0, 6.67, 40.0, 5.71, 75, 165, 45.45, '53.3%', '13.3%',\n",
       "        '66.7%', '33.3%'],\n",
       "       ['RD Gaikwad', 'CSK', 'RHB', 14, 186, 164, 8, 23.25, 113.41, 30,\n",
       "        20, 7, 0, 0, 8.2, 23.43, 6.07, 64, 137, 46.72, '43.0%', '22.6%',\n",
       "        '65.6%', '34.4%'],\n",
       "       ['RM Patidar', 'RCB', 'RHB', 6, 87, 75, 0, 87.0, 116.0, 33, 13, 2,\n",
       "        0, 0, 5.77, 37.5, 5.0, 23, 60, 38.33, '59.8%', '13.8%', '73.6%',\n",
       "        '26.4%'],\n",
       "       ['V Kohli', 'RCB', 'RHB', 13, 160, 137, 8, 20.0, 116.79, 34, 22,\n",
       "        3, 0, 0, 6.23, 45.67, 5.48, 54, 112, 48.21, '55.0%', '11.3%',\n",
       "        '66.3%', '33.8%'],\n",
       "       ['S Dhawan', 'PBKS', 'LHB', 14, 242, 207, 6, 40.33, 116.91, 30,\n",
       "        27, 8, 0, 0, 7.67, 25.88, 5.91, 86, 172, 50.0, '44.6%', '19.8%',\n",
       "        '64.5%', '35.5%'],\n",
       "       ['Shubman Gill', 'GT', 'RHB', 16, 215, 182, 6, 35.83, 118.13, 33,\n",
       "        30, 3, 0, 0, 6.07, 60.67, 5.52, 77, 149, 51.68, '55.8%', '8.4%',\n",
       "        '64.2%', '35.8%'],\n",
       "       ['RV Uthappa', 'CSK', 'RHB', 9, 134, 111, 5, 26.8, 120.72, 45, 16,\n",
       "        5, 0, 0, 6.94, 22.2, 5.29, 40, 90, 44.44, '47.8%', '22.4%',\n",
       "        '70.1%', '29.9%'],\n",
       "       ['MS Wade', 'GT', 'LHB', 9, 111, 91, 6, 18.5, 121.98, 27, 19, 2,\n",
       "        0, 0, 4.79, 45.5, 4.33, 23, 70, 32.86, '68.5%', '10.8%', '79.3%',\n",
       "        '20.7%'],\n",
       "       ['RG Sharma', 'MI', 'RHB', 14, 227, 183, 9, 25.22, 124.04, 42, 25,\n",
       "        12, 0, 0, 7.32, 15.25, 4.95, 55, 146, 37.67, '44.1%', '31.7%',\n",
       "        '75.8%', '24.2%'],\n",
       "       ['Abhishek Sharma', 'SRH', 'LHB', 14, 255, 203, 6, 42.5, 125.62,\n",
       "        46, 39, 3, 0, 0, 5.21, 67.67, 4.83, 81, 161, 50.31, '61.2%',\n",
       "        '7.1%', '68.2%', '31.8%'],\n",
       "       ['MA Agarwal', 'PBKS', 'RHB', 8, 145, 111, 6, 24.17, 130.63, 38,\n",
       "        18, 5, 0, 0, 6.17, 22.2, 4.83, 43, 88, 48.86, '49.7%', '20.7%',\n",
       "        '70.3%', '29.7%'],\n",
       "       ['JC Buttler', 'RR', 'RHB', 17, 374, 280, 7, 53.43, 133.57, 54,\n",
       "        43, 20, 1, 0, 6.51, 14.0, 4.44, 82, 217, 37.79, '46.0%', '32.1%',\n",
       "        '78.1%', '21.9%'],\n",
       "       ['WP Saha', 'GT', 'RHB', 11, 217, 162, 4, 54.25, 133.95, 39, 32,\n",
       "        7, 0, 0, 5.06, 23.14, 4.15, 47, 123, 38.21, '59.0%', '19.4%',\n",
       "        '78.3%', '21.7%'],\n",
       "       ['MR Marsh', 'DC', 'RHB', 8, 115, 85, 3, 38.33, 135.29, 31, 8, 8,\n",
       "        0, 0, 10.63, 10.63, 5.31, 35, 69, 50.72, '27.8%', '41.7%',\n",
       "        '69.6%', '30.4%'],\n",
       "       ['Q de Kock', 'LSG', 'LHB', 15, 257, 188, 9, 28.56, 136.7, 44, 26,\n",
       "        12, 0, 0, 7.23, 15.67, 4.95, 81, 150, 54.0, '40.5%', '28.0%',\n",
       "        '68.5%', '31.5%'],\n",
       "       ['YBK Jaiswal', 'RR', 'LHB', 10, 172, 124, 5, 34.4, 138.71, 34,\n",
       "        21, 8, 0, 0, 5.9, 15.5, 4.28, 40, 95, 42.11, '48.8%', '27.9%',\n",
       "        '76.7%', '23.3%'],\n",
       "       ['SS Iyer', 'KKR', 'RHB', 11, 167, 118, 2, 83.5, 141.53, 33, 25,\n",
       "        2, 0, 0, 4.72, 59.0, 4.37, 55, 91, 60.44, '59.9%', '7.2%',\n",
       "        '67.1%', '32.9%'],\n",
       "       ['RA Tripathi', 'SRH', 'RHB', 11, 138, 97, 3, 46.0, 142.27, 24,\n",
       "        16, 6, 0, 0, 6.06, 16.17, 4.41, 38, 75, 50.67, '46.4%', '26.1%',\n",
       "        '72.5%', '27.5%'],\n",
       "       ['SV Samson', 'RR', 'RHB', 11, 123, 84, 0, 123.0, 146.43, 30, 17,\n",
       "        5, 0, 0, 4.94, 16.8, 3.82, 25, 62, 40.32, '55.3%', '24.4%',\n",
       "        '79.7%', '20.3%'],\n",
       "       ['PP Shaw', 'DC', 'RHB', 10, 217, 144, 5, 43.4, 150.69, 47, 31, 7,\n",
       "        0, 0, 4.65, 20.57, 3.79, 51, 106, 48.11, '57.1%', '19.4%',\n",
       "        '76.5%', '23.5%'],\n",
       "       ['DA Warner', 'DC', 'LHB', 12, 225, 146, 5, 45.0, 154.11, 38, 32,\n",
       "        8, 0, 0, 4.56, 18.25, 3.65, 49, 106, 46.23, '56.9%', '21.3%',\n",
       "        '78.2%', '21.8%'],\n",
       "       ['JM Bairstow', 'PBKS', 'RHB', 9, 181, 106, 4, 45.25, 170.75, 59,\n",
       "        25, 9, 1, 0, 4.24, 11.78, 3.12, 27, 72, 37.5, '55.2%', '29.8%',\n",
       "        '85.1%', '14.9%']], dtype=object)"
      ]
     },
     "execution_count": 7,
     "metadata": {},
     "output_type": "execute_result"
    }
   ],
   "source": [
    "powerplay_batting.values"
   ]
  },
  {
   "cell_type": "code",
   "execution_count": 8,
   "id": "c90f80f1",
   "metadata": {},
   "outputs": [
    {
     "data": {
      "text/plain": [
       "Index(['Player', 'Team', 'BT', 'I', 'R', 'B', 'Outs', 'Avg', 'SR', 'HS', '4s',\n",
       "       '6s', '50', '100', 'BP4', 'BP6', 'BPB', 'RWOB', 'NBB', 'NBSTR',\n",
       "       'Runs From 4's %', 'Runs From 6's %', 'Runs From Bound %',\n",
       "       'other runs %'],\n",
       "      dtype='object')"
      ]
     },
     "execution_count": 8,
     "metadata": {},
     "output_type": "execute_result"
    }
   ],
   "source": [
    "powerplay_batting.columns"
   ]
  },
  {
   "cell_type": "code",
   "execution_count": 9,
   "id": "abdf4dac",
   "metadata": {},
   "outputs": [
    {
     "data": {
      "text/plain": [
       "RangeIndex(start=0, stop=30, step=1)"
      ]
     },
     "execution_count": 9,
     "metadata": {},
     "output_type": "execute_result"
    }
   ],
   "source": [
    "powerplay_batting.index"
   ]
  },
  {
   "cell_type": "markdown",
   "id": "3eef0318",
   "metadata": {},
   "source": [
    "## Sorting Rows"
   ]
  },
  {
   "cell_type": "code",
   "execution_count": 10,
   "id": "d59f3b42",
   "metadata": {},
   "outputs": [],
   "source": [
    "top_run_getters = powerplay_batting.sort_values([\"R\",\"SR\"],ascending = [False,False])"
   ]
  },
  {
   "cell_type": "code",
   "execution_count": 11,
   "id": "5ab0738c",
   "metadata": {},
   "outputs": [],
   "source": [
    "top_5_run_getters = top_run_getters[0:5]"
   ]
  },
  {
   "cell_type": "code",
   "execution_count": 12,
   "id": "1ac2ee0f",
   "metadata": {},
   "outputs": [],
   "source": [
    "top_strike_rate_players = powerplay_batting.sort_values([\"SR\",\"R\"],ascending = [False,False])"
   ]
  },
  {
   "cell_type": "code",
   "execution_count": 13,
   "id": "7162fb70",
   "metadata": {},
   "outputs": [],
   "source": [
    "top_5_strike_rate_players_in_pp = top_strike_rate_players[0:5]"
   ]
  },
  {
   "cell_type": "code",
   "execution_count": 14,
   "id": "a884d7a5",
   "metadata": {},
   "outputs": [
    {
     "name": "stdout",
     "output_type": "stream",
     "text": [
      "['deeppink', 'skyblue', 'orange', 'red', 'blue']\n"
     ]
    }
   ],
   "source": [
    "colors = []\n",
    "# Iterate over rows of top_5_run_getters\n",
    "for idx, row in top_5_run_getters.iterrows():\n",
    "    if row['Team'] == \"CSK\" :\n",
    "        colors.append('yellow')\n",
    "    elif row['Team'] == \"RCB\" :\n",
    "        colors.append('green')\n",
    "    elif row['Team'] == \"RR\" :\n",
    "        colors.append('deeppink')\n",
    "    elif row[\"Team\"] == \"DC\":\n",
    "        colors.append('blue')\n",
    "    elif row[\"Team\"] == \"GT\":\n",
    "        colors.append(\"mediumpurple\")\n",
    "    elif row[\"Team\"] == 'PBKS':\n",
    "        colors.append('red')\n",
    "    elif row[\"Team\"] == \"KKR\":\n",
    "        colors.append('purple')\n",
    "    elif row[\"Team\"] == \"LSG\":\n",
    "        colors.append('skyblue')\n",
    "    elif row[\"Team\"] == \"SRH\":\n",
    "        colors.append(\"orange\")\n",
    "    elif row[\"Team\"] == \"MI\":\n",
    "        colors.append('blue')\n",
    "    else:\n",
    "        colors.append('black')\n",
    "print(colors)"
   ]
  },
  {
   "cell_type": "code",
   "execution_count": 15,
   "id": "d2e175b4",
   "metadata": {},
   "outputs": [
    {
     "data": {
      "image/png": "[encoded data removed]",
      "text/plain": [
       "<Figure size 576x288 with 1 Axes>"
      ]
     },
     "metadata": {
      "needs_background": "light"
     },
     "output_type": "display_data"
    }
   ],
   "source": [
    "# finding the highest runs scorer in powerplay\n",
    "# creating bar plot\n",
    "fig = plt.figure(figsize=(8,4))\n",
    "x = top_5_run_getters[\"Player\"]\n",
    "y = top_5_run_getters[\"R\"]\n",
    "plt.bar(x,y,color=colors,width = 0.8)\n",
    "plt.title(\"Top 5 Power Play Run Getters in ipl 2022\")\n",
    "plt.xlabel(\"Name of the player\")\n",
    "plt.ylabel(\"Number of Runs Scored\")\n",
    "plt.show()"
   ]
  },
  {
   "cell_type": "code",
   "execution_count": 16,
   "id": "5bbd235e",
   "metadata": {},
   "outputs": [
    {
     "name": "stdout",
     "output_type": "stream",
     "text": [
      "['red', 'blue', 'blue', 'deeppink', 'orange']\n"
     ]
    }
   ],
   "source": [
    "colors = []\n",
    "# Iterate over rows of top_5_strike_rate_players_in_pp\n",
    "for idx, row in top_5_strike_rate_players_in_pp.iterrows():\n",
    "    if row['Team'] == \"CSK\" :\n",
    "        colors.append('yellow')\n",
    "    elif row['Team'] == \"RCB\" :\n",
    "        colors.append('green')\n",
    "    elif row['Team'] == \"RR\" :\n",
    "        colors.append('deeppink')\n",
    "    elif row[\"Team\"] == \"DC\":\n",
    "        colors.append('blue')\n",
    "    elif row[\"Team\"] == \"GT\":\n",
    "        colors.append(\"mediumpurple\")\n",
    "    elif row[\"Team\"] == 'PBKS':\n",
    "        colors.append('red')\n",
    "    elif row[\"Team\"] == \"KKR\":\n",
    "        colors.append('purple')\n",
    "    elif row[\"Team\"] == \"LSG\":\n",
    "        colors.append('skyblue')\n",
    "    elif row[\"Team\"] == \"SRH\":\n",
    "        colors.append(\"orange\")\n",
    "    elif row[\"Team\"] == \"MI\":\n",
    "        colors.append('blue')\n",
    "    else:\n",
    "        colors.append('black')\n",
    "print(colors)"
   ]
  },
  {
   "cell_type": "code",
   "execution_count": 17,
   "id": "83f84e81",
   "metadata": {},
   "outputs": [
    {
     "data": {
      "image/png": "[encoded data removed]",
      "text/plain": [
       "<Figure size 576x288 with 1 Axes>"
      ]
     },
     "metadata": {
      "needs_background": "light"
     },
     "output_type": "display_data"
    }
   ],
   "source": [
    "# finding the big hitter in powerplay\n",
    "# creating bar plot\n",
    "fig = plt.figure(figsize=(8,4))\n",
    "x = top_5_strike_rate_players_in_pp[\"Player\"]\n",
    "y = top_5_strike_rate_players_in_pp[\"SR\"]\n",
    "plt.bar(x,y,color=colors,width = 0.8)\n",
    "plt.title(\"Top 5 Power Play Big Hitters in ipl 2022\")\n",
    "plt.xlabel(\"Name of the player\")\n",
    "plt.ylabel(\"Strike Rate of the player\")\n",
    "plt.show()"
   ]
  },
  {
   "cell_type": "code",
   "execution_count": 18,
   "id": "38ee0728",
   "metadata": {},
   "outputs": [],
   "source": [
    "last_5_strike_rate_players_in_pp = top_strike_rate_players[25:31]"
   ]
  },
  {
   "cell_type": "code",
   "execution_count": 19,
   "id": "646360e0",
   "metadata": {},
   "outputs": [
    {
     "name": "stdout",
     "output_type": "stream",
     "text": [
      "          Player Team   BT   I    R    B  Outs    Avg      SR  HS  ...    BP4  \\\n",
      "4       KL Rahul  LSG  RHB  14  203  196     6  33.83  103.57  27  ...  10.89   \n",
      "3     D Padikkal   RR  LHB   9  100   97     5  20.00  103.09  25  ...   6.93   \n",
      "2      AM Rahane  KKR  RHB   7   92   95     4  23.00   96.84  27  ...   9.50   \n",
      "1     Anuj Rawat  RCB  LHB   8   77   83     5  15.40   92.77  22  ...  10.38   \n",
      "0  KS Williamson  SRH  RHB  11  110  144     8  13.75   76.39  18  ...  13.09   \n",
      "\n",
      "     BP6    BPB  RWOB  NBB  NBSTR  Runs From 4's %  Runs From 6's %  \\\n",
      "4  24.50   7.54    83  170  48.82            35.5%            23.6%   \n",
      "3  48.50   6.06    32   81  39.51            56.0%            12.0%   \n",
      "2  31.67   7.31    34   82  41.46            43.5%            19.6%   \n",
      "1  27.67   7.55    27   72  37.50            41.6%            23.4%   \n",
      "0  48.00  10.29    48  130  36.92            40.0%            16.4%   \n",
      "\n",
      "   Runs From Bound %  other runs %  \n",
      "4              59.1%         40.9%  \n",
      "3              68.0%         32.0%  \n",
      "2              63.0%         37.0%  \n",
      "1              64.9%         35.1%  \n",
      "0              56.4%         43.6%  \n",
      "\n",
      "[5 rows x 24 columns]\n"
     ]
    }
   ],
   "source": [
    "print(last_5_strike_rate_players_in_pp)"
   ]
  },
  {
   "cell_type": "code",
   "execution_count": 20,
   "id": "26736bde",
   "metadata": {},
   "outputs": [
    {
     "name": "stdout",
     "output_type": "stream",
     "text": [
      "['skyblue', 'deeppink', 'purple', 'green', 'orange']\n"
     ]
    }
   ],
   "source": [
    "colors = []\n",
    "# iretare over rows of last_5_strike_rate_in_pp\n",
    "for idx, row in last_5_strike_rate_players_in_pp.iterrows():\n",
    "    if row['Team'] == \"CSK\":\n",
    "        colors.append('Yellow')\n",
    "    elif row['Team'] == \"RCB\" :\n",
    "        colors.append('green')\n",
    "    elif row['Team'] == \"RR\" :\n",
    "        colors.append('deeppink')\n",
    "    elif row[\"Team\"] == \"DC\":\n",
    "        colors.append('royalblue')\n",
    "    elif row[\"Team\"] == \"GT\":\n",
    "        colors.append(\"mediumpurple\")\n",
    "    elif row[\"Team\"] == 'PBKS':\n",
    "        colors.append('red')\n",
    "    elif row[\"Team\"] == \"KKR\":\n",
    "        colors.append('purple')\n",
    "    elif row[\"Team\"] == \"LSG\":\n",
    "        colors.append('skyblue')\n",
    "    elif row[\"Team\"] == \"SRH\":\n",
    "        colors.append(\"orange\")\n",
    "    elif row[\"Team\"] == \"MI\":\n",
    "        colors.append('blue')\n",
    "    else:\n",
    "        colors.append('black')\n",
    "print(colors)"
   ]
  },
  {
   "cell_type": "code",
   "execution_count": 21,
   "id": "16737346",
   "metadata": {},
   "outputs": [
    {
     "data": {
      "image/png": "[encoded data removed]",
      "text/plain": [
       "<Figure size 576x288 with 1 Axes>"
      ]
     },
     "metadata": {
      "needs_background": "light"
     },
     "output_type": "display_data"
    }
   ],
   "source": [
    "# finding the worst strike rate player in powerplay\n",
    "# creating bar plot\n",
    "fig = plt.figure(figsize=(8,4))\n",
    "x = last_5_strike_rate_players_in_pp[\"Player\"]\n",
    "y = last_5_strike_rate_players_in_pp[\"SR\"]\n",
    "plt.bar(x,y,color=colors,width = 0.8)\n",
    "plt.title(\"last 5 Power Play Big Hitters in ipl 2022\")\n",
    "plt.xlabel(\"Name of the player\")\n",
    "plt.ylabel(\"Strike Rate of the player\")\n",
    "plt.show()"
   ]
  },
  {
   "cell_type": "markdown",
   "id": "ff5b0eb2",
   "metadata": {},
   "source": [
    "## Subsetting Columns in the powerplay_batting DataFrame "
   ]
  },
  {
   "cell_type": "code",
   "execution_count": 22,
   "id": "132ee561",
   "metadata": {},
   "outputs": [],
   "source": [
    "new_powerplay_batting = powerplay_batting[[\"Player\",\"Team\",\"BT\",\"I\",\"R\",\"B\",\"Outs\",\"Avg\",\"SR\",\"4s\",\"6s\",\"BP4\",\"BPB\",\"NBSTR\",\"Runs From 4's %\"\n",
    "                                         ,\"Runs From Bound %\",\"other runs %\"]]"
   ]
  },
  {
   "cell_type": "code",
   "execution_count": 23,
   "id": "3089a83d",
   "metadata": {},
   "outputs": [
    {
     "data": {
      "text/html": [
       "<div>\n",
       "<style scoped>\n",
       "    .dataframe tbody tr th:only-of-type {\n",
       "        vertical-align: middle;\n",
       "    }\n",
       "\n",
       "    .dataframe tbody tr th {\n",
       "        vertical-align: top;\n",
       "    }\n",
       "\n",
       "    .dataframe thead th {\n",
       "        text-align: right;\n",
       "    }\n",
       "</style>\n",
       "<table border=\"1\" class=\"dataframe\">\n",
       "  <thead>\n",
       "    <tr style=\"text-align: right;\">\n",
       "      <th></th>\n",
       "      <th>Player</th>\n",
       "      <th>Team</th>\n",
       "      <th>BT</th>\n",
       "      <th>I</th>\n",
       "      <th>R</th>\n",
       "      <th>B</th>\n",
       "      <th>Outs</th>\n",
       "      <th>Avg</th>\n",
       "      <th>SR</th>\n",
       "      <th>4s</th>\n",
       "      <th>6s</th>\n",
       "      <th>BP4</th>\n",
       "      <th>BPB</th>\n",
       "      <th>NBSTR</th>\n",
       "      <th>Runs From 4's %</th>\n",
       "      <th>Runs From Bound %</th>\n",
       "      <th>other runs %</th>\n",
       "    </tr>\n",
       "  </thead>\n",
       "  <tbody>\n",
       "    <tr>\n",
       "      <th>0</th>\n",
       "      <td>KS Williamson</td>\n",
       "      <td>SRH</td>\n",
       "      <td>RHB</td>\n",
       "      <td>11</td>\n",
       "      <td>110</td>\n",
       "      <td>144</td>\n",
       "      <td>8</td>\n",
       "      <td>13.75</td>\n",
       "      <td>76.39</td>\n",
       "      <td>11</td>\n",
       "      <td>3</td>\n",
       "      <td>13.09</td>\n",
       "      <td>10.29</td>\n",
       "      <td>36.92</td>\n",
       "      <td>40.0%</td>\n",
       "      <td>56.4%</td>\n",
       "      <td>43.6%</td>\n",
       "    </tr>\n",
       "    <tr>\n",
       "      <th>1</th>\n",
       "      <td>Anuj Rawat</td>\n",
       "      <td>RCB</td>\n",
       "      <td>LHB</td>\n",
       "      <td>8</td>\n",
       "      <td>77</td>\n",
       "      <td>83</td>\n",
       "      <td>5</td>\n",
       "      <td>15.40</td>\n",
       "      <td>92.77</td>\n",
       "      <td>8</td>\n",
       "      <td>3</td>\n",
       "      <td>10.38</td>\n",
       "      <td>7.55</td>\n",
       "      <td>37.50</td>\n",
       "      <td>41.6%</td>\n",
       "      <td>64.9%</td>\n",
       "      <td>35.1%</td>\n",
       "    </tr>\n",
       "    <tr>\n",
       "      <th>2</th>\n",
       "      <td>AM Rahane</td>\n",
       "      <td>KKR</td>\n",
       "      <td>RHB</td>\n",
       "      <td>7</td>\n",
       "      <td>92</td>\n",
       "      <td>95</td>\n",
       "      <td>4</td>\n",
       "      <td>23.00</td>\n",
       "      <td>96.84</td>\n",
       "      <td>10</td>\n",
       "      <td>3</td>\n",
       "      <td>9.50</td>\n",
       "      <td>7.31</td>\n",
       "      <td>41.46</td>\n",
       "      <td>43.5%</td>\n",
       "      <td>63.0%</td>\n",
       "      <td>37.0%</td>\n",
       "    </tr>\n",
       "    <tr>\n",
       "      <th>3</th>\n",
       "      <td>D Padikkal</td>\n",
       "      <td>RR</td>\n",
       "      <td>LHB</td>\n",
       "      <td>9</td>\n",
       "      <td>100</td>\n",
       "      <td>97</td>\n",
       "      <td>5</td>\n",
       "      <td>20.00</td>\n",
       "      <td>103.09</td>\n",
       "      <td>14</td>\n",
       "      <td>2</td>\n",
       "      <td>6.93</td>\n",
       "      <td>6.06</td>\n",
       "      <td>39.51</td>\n",
       "      <td>56.0%</td>\n",
       "      <td>68.0%</td>\n",
       "      <td>32.0%</td>\n",
       "    </tr>\n",
       "    <tr>\n",
       "      <th>4</th>\n",
       "      <td>KL Rahul</td>\n",
       "      <td>LSG</td>\n",
       "      <td>RHB</td>\n",
       "      <td>14</td>\n",
       "      <td>203</td>\n",
       "      <td>196</td>\n",
       "      <td>6</td>\n",
       "      <td>33.83</td>\n",
       "      <td>103.57</td>\n",
       "      <td>18</td>\n",
       "      <td>8</td>\n",
       "      <td>10.89</td>\n",
       "      <td>7.54</td>\n",
       "      <td>48.82</td>\n",
       "      <td>35.5%</td>\n",
       "      <td>59.1%</td>\n",
       "      <td>40.9%</td>\n",
       "    </tr>\n",
       "  </tbody>\n",
       "</table>\n",
       "</div>"
      ],
      "text/plain": [
       "          Player Team   BT   I    R    B  Outs    Avg      SR  4s  6s    BP4  \\\n",
       "0  KS Williamson  SRH  RHB  11  110  144     8  13.75   76.39  11   3  13.09   \n",
       "1     Anuj Rawat  RCB  LHB   8   77   83     5  15.40   92.77   8   3  10.38   \n",
       "2      AM Rahane  KKR  RHB   7   92   95     4  23.00   96.84  10   3   9.50   \n",
       "3     D Padikkal   RR  LHB   9  100   97     5  20.00  103.09  14   2   6.93   \n",
       "4       KL Rahul  LSG  RHB  14  203  196     6  33.83  103.57  18   8  10.89   \n",
       "\n",
       "     BPB  NBSTR Runs From 4's % Runs From Bound % other runs %  \n",
       "0  10.29  36.92           40.0%             56.4%        43.6%  \n",
       "1   7.55  37.50           41.6%             64.9%        35.1%  \n",
       "2   7.31  41.46           43.5%             63.0%        37.0%  \n",
       "3   6.06  39.51           56.0%             68.0%        32.0%  \n",
       "4   7.54  48.82           35.5%             59.1%        40.9%  "
      ]
     },
     "execution_count": 23,
     "metadata": {},
     "output_type": "execute_result"
    }
   ],
   "source": [
    "new_powerplay_batting.head(5)"
   ]
  },
  {
   "cell_type": "markdown",
   "id": "ad203999",
   "metadata": {},
   "source": [
    "## Subsetting rows in the new_powerplay_batting"
   ]
  },
  {
   "cell_type": "code",
   "execution_count": 24,
   "id": "fbdf9f8f",
   "metadata": {},
   "outputs": [],
   "source": [
    "csk_power_play_batters = new_powerplay_batting[new_powerplay_batting[\"Team\"] == \"CSK\"]"
   ]
  },
  {
   "cell_type": "code",
   "execution_count": 25,
   "id": "1f696843",
   "metadata": {},
   "outputs": [
    {
     "name": "stdout",
     "output_type": "stream",
     "text": [
      "        Player Team   BT   I    R    B  Outs    Avg      SR  4s  6s    BP4  \\\n",
      "7    DP Conway  CSK  LHB   7   85   76     3  28.33  111.84   7   4  10.86   \n",
      "9   RD Gaikwad  CSK  RHB  14  186  164     8  23.25  113.41  20   7   8.20   \n",
      "14  RV Uthappa  CSK  RHB   9  134  111     5  26.80  120.72  16   5   6.94   \n",
      "\n",
      "     BPB  NBSTR Runs From 4's % Runs From Bound % other runs %  \n",
      "7   6.91  50.77           32.9%             61.2%        38.8%  \n",
      "9   6.07  46.72           43.0%             65.6%        34.4%  \n",
      "14  5.29  44.44           47.8%             70.1%        29.9%  \n"
     ]
    }
   ],
   "source": [
    "print(csk_power_play_batters)"
   ]
  },
  {
   "cell_type": "code",
   "execution_count": 26,
   "id": "9391333b",
   "metadata": {},
   "outputs": [],
   "source": [
    "mi_power_play_batters = new_powerplay_batting[new_powerplay_batting[\"Team\"] == \"MI\"]\n",
    "kkr_power_play_batters = new_powerplay_batting[new_powerplay_batting[\"Team\"] == \"KKR\"]\n",
    "srh_power_play_batters = new_powerplay_batting[new_powerplay_batting[\"Team\"] == \"SRH\"]\n",
    "pbks_power_play_batters = new_powerplay_batting[new_powerplay_batting[\"Team\"] == \"pbks\"]\n",
    "dc_power_play_batters = new_powerplay_batting[new_powerplay_batting[\"Team\"] == \"DC\"]\n",
    "gt_power_play_batters = new_powerplay_batting[new_powerplay_batting[\"Team\"] == \"GT\"]\n",
    "rcb_power_play_batters = new_powerplay_batting[new_powerplay_batting[\"Team\"] == \"RCB\"]\n",
    "lsg_power_play_batters = new_powerplay_batting[new_powerplay_batting[\"Team\"] == \"LSG\"]\n",
    "rr_power_play_batters = new_powerplay_batting[new_powerplay_batting[\"Team\"] == \"RR\"]"
   ]
  },
  {
   "cell_type": "code",
   "execution_count": 27,
   "id": "d1b64fc4",
   "metadata": {},
   "outputs": [
    {
     "name": "stdout",
     "output_type": "stream",
     "text": [
      "         Player Team   BT   I    R    B  Outs     Avg      SR  4s  6s   BP4  \\\n",
      "3    D Padikkal   RR  LHB   9  100   97     5   20.00  103.09  14   2  6.93   \n",
      "19   JC Buttler   RR  RHB  17  374  280     7   53.43  133.57  43  20  6.51   \n",
      "23  YBK Jaiswal   RR  LHB  10  172  124     5   34.40  138.71  21   8  5.90   \n",
      "26    SV Samson   RR  RHB  11  123   84     0  123.00  146.43  17   5  4.94   \n",
      "\n",
      "     BPB  NBSTR Runs From 4's % Runs From Bound % other runs %  \n",
      "3   6.06  39.51           56.0%             68.0%        32.0%  \n",
      "19  4.44  37.79           46.0%             78.1%        21.9%  \n",
      "23  4.28  42.11           48.8%             76.7%        23.3%  \n",
      "26  3.82  40.32           55.3%             79.7%        20.3%  \n"
     ]
    }
   ],
   "source": [
    "print(rr_power_play_batters)"
   ]
  },
  {
   "cell_type": "code",
   "execution_count": 28,
   "id": "3e5b8849",
   "metadata": {},
   "outputs": [],
   "source": [
    "# Filter for rows where team is rr and\n",
    "# and BT is LHB\n",
    "# remeber bit wise end operator\n",
    "rr_lhb_power_play_batters = new_powerplay_batting[(new_powerplay_batting[\"Team\"] == \"RR\") & (new_powerplay_batting[\"BT\"]\n",
    "                                                 == \"LHB\")]"
   ]
  },
  {
   "cell_type": "code",
   "execution_count": 29,
   "id": "3e1a7ad0",
   "metadata": {},
   "outputs": [
    {
     "name": "stdout",
     "output_type": "stream",
     "text": [
      "         Player Team   BT   I    R    B  Outs   Avg      SR  4s  6s   BP4  \\\n",
      "3    D Padikkal   RR  LHB   9  100   97     5  20.0  103.09  14   2  6.93   \n",
      "23  YBK Jaiswal   RR  LHB  10  172  124     5  34.4  138.71  21   8  5.90   \n",
      "\n",
      "     BPB  NBSTR Runs From 4's % Runs From Bound % other runs %  \n",
      "3   6.06  39.51           56.0%             68.0%        32.0%  \n",
      "23  4.28  42.11           48.8%             76.7%        23.3%  \n"
     ]
    }
   ],
   "source": [
    "print(rr_lhb_power_play_batters)"
   ]
  },
  {
   "cell_type": "markdown",
   "id": "2d2f1b57",
   "metadata": {},
   "source": [
    "## Subsetting rows by categorical variables"
   ]
  },
  {
   "cell_type": "code",
   "execution_count": 30,
   "id": "66d5e11a",
   "metadata": {},
   "outputs": [],
   "source": [
    "play_off_teams = [\"GT\",\"RR\",\"LSG\",\"RCB\"]\n",
    "pp_batters_of_play_off_teams = new_powerplay_batting[new_powerplay_batting[\"Team\"].isin(play_off_teams)]"
   ]
  },
  {
   "cell_type": "code",
   "execution_count": 31,
   "id": "f0478c9e",
   "metadata": {},
   "outputs": [
    {
     "name": "stdout",
     "output_type": "stream",
     "text": [
      "          Player Team   BT   I    R    B  Outs     Avg      SR  4s  6s    BP4  \\\n",
      "1     Anuj Rawat  RCB  LHB   8   77   83     5   15.40   92.77   8   3  10.38   \n",
      "3     D Padikkal   RR  LHB   9  100   97     5   20.00  103.09  14   2   6.93   \n",
      "4       KL Rahul  LSG  RHB  14  203  196     6   33.83  103.57  18   8  10.89   \n",
      "5   F du Plessis  RCB  RHB  16  201  192     7   28.71  104.69  28   3   6.86   \n",
      "10    RM Patidar  RCB  RHB   6   87   75     0   87.00  116.00  13   2   5.77   \n",
      "11       V Kohli  RCB  RHB  13  160  137     8   20.00  116.79  22   3   6.23   \n",
      "13  Shubman Gill   GT  RHB  16  215  182     6   35.83  118.13  30   3   6.07   \n",
      "15       MS Wade   GT  LHB   9  111   91     6   18.50  121.98  19   2   4.79   \n",
      "19    JC Buttler   RR  RHB  17  374  280     7   53.43  133.57  43  20   6.51   \n",
      "20       WP Saha   GT  RHB  11  217  162     4   54.25  133.95  32   7   5.06   \n",
      "22     Q de Kock  LSG  LHB  15  257  188     9   28.56  136.70  26  12   7.23   \n",
      "23   YBK Jaiswal   RR  LHB  10  172  124     5   34.40  138.71  21   8   5.90   \n",
      "26     SV Samson   RR  RHB  11  123   84     0  123.00  146.43  17   5   4.94   \n",
      "\n",
      "     BPB  NBSTR Runs From 4's % Runs From Bound % other runs %  \n",
      "1   7.55  37.50           41.6%             64.9%        35.1%  \n",
      "3   6.06  39.51           56.0%             68.0%        32.0%  \n",
      "4   7.54  48.82           35.5%             59.1%        40.9%  \n",
      "5   6.19  44.10           55.7%             64.7%        35.3%  \n",
      "10  5.00  38.33           59.8%             73.6%        26.4%  \n",
      "11  5.48  48.21           55.0%             66.3%        33.8%  \n",
      "13  5.52  51.68           55.8%             64.2%        35.8%  \n",
      "15  4.33  32.86           68.5%             79.3%        20.7%  \n",
      "19  4.44  37.79           46.0%             78.1%        21.9%  \n",
      "20  4.15  38.21           59.0%             78.3%        21.7%  \n",
      "22  4.95  54.00           40.5%             68.5%        31.5%  \n",
      "23  4.28  42.11           48.8%             76.7%        23.3%  \n",
      "26  3.82  40.32           55.3%             79.7%        20.3%  \n"
     ]
    }
   ],
   "source": [
    "print(pp_batters_of_play_off_teams)"
   ]
  },
  {
   "cell_type": "markdown",
   "id": "d85a3fdf",
   "metadata": {},
   "source": [
    "## Adding new columns"
   ]
  },
  {
   "cell_type": "code",
   "execution_count": 32,
   "id": "bdc61e6f",
   "metadata": {},
   "outputs": [
    {
     "name": "stderr",
     "output_type": "stream",
     "text": [
      "C:\\Users\\pavan\\AppData\\Local\\Temp\\ipykernel_88744\\3466906653.py:1: SettingWithCopyWarning: \n",
      "A value is trying to be set on a copy of a slice from a DataFrame.\n",
      "Try using .loc[row_indexer,col_indexer] = value instead\n",
      "\n",
      "See the caveats in the documentation: https://pandas.pydata.org/pandas-docs/stable/user_guide/indexing.html#returning-a-view-versus-a-copy\n",
      "  new_powerplay_batting[\"dream_11_points\"] = (new_powerplay_batting[\"R\"]*1 + new_powerplay_batting[\"4s\"]*1 +\n"
     ]
    }
   ],
   "source": [
    "new_powerplay_batting[\"dream_11_points\"] = (new_powerplay_batting[\"R\"]*1 + new_powerplay_batting[\"4s\"]*1 +\n",
    "                                            new_powerplay_batting[\"6s\"]*2)\n"
   ]
  },
  {
   "cell_type": "markdown",
   "id": "0084da5b",
   "metadata": {},
   "source": [
    "## Applying all Four Manipulations Adding Column,subsetting rows, sorting rows ,and subsetting columns"
   ]
  },
  {
   "cell_type": "code",
   "execution_count": 33,
   "id": "21e12fd7",
   "metadata": {},
   "outputs": [],
   "source": [
    "power_batting_points_sort = new_powerplay_batting.sort_values(\"dream_11_points\",ascending = False)"
   ]
  },
  {
   "cell_type": "code",
   "execution_count": 34,
   "id": "1ceff773",
   "metadata": {},
   "outputs": [],
   "source": [
    "top_5_dream_11_point_scorers = power_batting_points_sort[[\"Player\",\"Team\",\"R\",\"dream_11_points\"]]\n",
    "top_5_dream_points_scorers_who_are_in_play_offs = top_5_dream_11_point_scorers[top_5_dream_11_point_scorers[\"Team\"]\n",
    "                                                                             .isin(play_off_teams)]"
   ]
  },
  {
   "cell_type": "code",
   "execution_count": 35,
   "id": "736021ab",
   "metadata": {},
   "outputs": [
    {
     "data": {
      "text/html": [
       "<div>\n",
       "<style scoped>\n",
       "    .dataframe tbody tr th:only-of-type {\n",
       "        vertical-align: middle;\n",
       "    }\n",
       "\n",
       "    .dataframe tbody tr th {\n",
       "        vertical-align: top;\n",
       "    }\n",
       "\n",
       "    .dataframe thead th {\n",
       "        text-align: right;\n",
       "    }\n",
       "</style>\n",
       "<table border=\"1\" class=\"dataframe\">\n",
       "  <thead>\n",
       "    <tr style=\"text-align: right;\">\n",
       "      <th></th>\n",
       "      <th>Player</th>\n",
       "      <th>Team</th>\n",
       "      <th>R</th>\n",
       "      <th>dream_11_points</th>\n",
       "    </tr>\n",
       "  </thead>\n",
       "  <tbody>\n",
       "    <tr>\n",
       "      <th>19</th>\n",
       "      <td>JC Buttler</td>\n",
       "      <td>RR</td>\n",
       "      <td>374</td>\n",
       "      <td>457</td>\n",
       "    </tr>\n",
       "    <tr>\n",
       "      <th>22</th>\n",
       "      <td>Q de Kock</td>\n",
       "      <td>LSG</td>\n",
       "      <td>257</td>\n",
       "      <td>307</td>\n",
       "    </tr>\n",
       "    <tr>\n",
       "      <th>20</th>\n",
       "      <td>WP Saha</td>\n",
       "      <td>GT</td>\n",
       "      <td>217</td>\n",
       "      <td>263</td>\n",
       "    </tr>\n",
       "    <tr>\n",
       "      <th>13</th>\n",
       "      <td>Shubman Gill</td>\n",
       "      <td>GT</td>\n",
       "      <td>215</td>\n",
       "      <td>251</td>\n",
       "    </tr>\n",
       "    <tr>\n",
       "      <th>4</th>\n",
       "      <td>KL Rahul</td>\n",
       "      <td>LSG</td>\n",
       "      <td>203</td>\n",
       "      <td>237</td>\n",
       "    </tr>\n",
       "  </tbody>\n",
       "</table>\n",
       "</div>"
      ],
      "text/plain": [
       "          Player Team    R  dream_11_points\n",
       "19    JC Buttler   RR  374              457\n",
       "22     Q de Kock  LSG  257              307\n",
       "20       WP Saha   GT  217              263\n",
       "13  Shubman Gill   GT  215              251\n",
       "4       KL Rahul  LSG  203              237"
      ]
     },
     "execution_count": 35,
     "metadata": {},
     "output_type": "execute_result"
    }
   ],
   "source": [
    "top_5_dream_points_scorers_who_are_in_play_offs.head(5)"
   ]
  },
  {
   "cell_type": "code",
   "execution_count": 36,
   "id": "b7bb29d4",
   "metadata": {},
   "outputs": [
    {
     "data": {
      "text/html": [
       "<div>\n",
       "<style scoped>\n",
       "    .dataframe tbody tr th:only-of-type {\n",
       "        vertical-align: middle;\n",
       "    }\n",
       "\n",
       "    .dataframe tbody tr th {\n",
       "        vertical-align: top;\n",
       "    }\n",
       "\n",
       "    .dataframe thead th {\n",
       "        text-align: right;\n",
       "    }\n",
       "</style>\n",
       "<table border=\"1\" class=\"dataframe\">\n",
       "  <thead>\n",
       "    <tr style=\"text-align: right;\">\n",
       "      <th></th>\n",
       "      <th>Player</th>\n",
       "      <th>Team</th>\n",
       "      <th>R</th>\n",
       "      <th>dream_11_points</th>\n",
       "    </tr>\n",
       "  </thead>\n",
       "  <tbody>\n",
       "    <tr>\n",
       "      <th>19</th>\n",
       "      <td>JC Buttler</td>\n",
       "      <td>RR</td>\n",
       "      <td>374</td>\n",
       "      <td>457</td>\n",
       "    </tr>\n",
       "    <tr>\n",
       "      <th>22</th>\n",
       "      <td>Q de Kock</td>\n",
       "      <td>LSG</td>\n",
       "      <td>257</td>\n",
       "      <td>307</td>\n",
       "    </tr>\n",
       "    <tr>\n",
       "      <th>17</th>\n",
       "      <td>Abhishek Sharma</td>\n",
       "      <td>SRH</td>\n",
       "      <td>255</td>\n",
       "      <td>300</td>\n",
       "    </tr>\n",
       "    <tr>\n",
       "      <th>12</th>\n",
       "      <td>S Dhawan</td>\n",
       "      <td>PBKS</td>\n",
       "      <td>242</td>\n",
       "      <td>285</td>\n",
       "    </tr>\n",
       "    <tr>\n",
       "      <th>16</th>\n",
       "      <td>RG Sharma</td>\n",
       "      <td>MI</td>\n",
       "      <td>227</td>\n",
       "      <td>276</td>\n",
       "    </tr>\n",
       "  </tbody>\n",
       "</table>\n",
       "</div>"
      ],
      "text/plain": [
       "             Player  Team    R  dream_11_points\n",
       "19       JC Buttler    RR  374              457\n",
       "22        Q de Kock   LSG  257              307\n",
       "17  Abhishek Sharma   SRH  255              300\n",
       "12         S Dhawan  PBKS  242              285\n",
       "16        RG Sharma    MI  227              276"
      ]
     },
     "execution_count": 36,
     "metadata": {},
     "output_type": "execute_result"
    }
   ],
   "source": [
    "top_5_dream_11_point_scorers.head(5)"
   ]
  },
  {
   "cell_type": "markdown",
   "id": "39df4359",
   "metadata": {},
   "source": [
    "## Aggregating DataFrames"
   ]
  },
  {
   "cell_type": "markdown",
   "id": "dc9cbff1",
   "metadata": {},
   "source": [
    "###  Mean and median"
   ]
  },
  {
   "cell_type": "code",
   "execution_count": 37,
   "id": "a1ec6bc7",
   "metadata": {},
   "outputs": [
    {
     "data": {
      "text/plain": [
       "205.63333333333333"
      ]
     },
     "execution_count": 37,
     "metadata": {},
     "output_type": "execute_result"
    }
   ],
   "source": [
    "new_powerplay_batting[\"dream_11_points\"].mean()"
   ]
  },
  {
   "cell_type": "code",
   "execution_count": 38,
   "id": "5d2749a7",
   "metadata": {},
   "outputs": [
    {
     "data": {
      "text/plain": [
       "202.5"
      ]
     },
     "execution_count": 38,
     "metadata": {},
     "output_type": "execute_result"
    }
   ],
   "source": [
    "new_powerplay_batting[\"dream_11_points\"].median()"
   ]
  },
  {
   "cell_type": "code",
   "execution_count": 39,
   "id": "8b8a599a",
   "metadata": {},
   "outputs": [
    {
     "data": {
      "text/plain": [
       "172.26666666666668"
      ]
     },
     "execution_count": 39,
     "metadata": {},
     "output_type": "execute_result"
    }
   ],
   "source": [
    "new_powerplay_batting[\"R\"].mean()"
   ]
  },
  {
   "cell_type": "code",
   "execution_count": 40,
   "id": "dd0e9066",
   "metadata": {},
   "outputs": [
    {
     "data": {
      "text/plain": [
       "123.16266666666667"
      ]
     },
     "execution_count": 40,
     "metadata": {},
     "output_type": "execute_result"
    }
   ],
   "source": [
    "new_powerplay_batting[\"SR\"].mean()"
   ]
  },
  {
   "cell_type": "code",
   "execution_count": 41,
   "id": "57416f61",
   "metadata": {},
   "outputs": [
    {
     "data": {
      "text/plain": [
       "5.425999999999999"
      ]
     },
     "execution_count": 41,
     "metadata": {},
     "output_type": "execute_result"
    }
   ],
   "source": [
    "new_powerplay_batting[\"BPB\"].mean()"
   ]
  },
  {
   "cell_type": "code",
   "execution_count": 42,
   "id": "638fc0d9",
   "metadata": {},
   "outputs": [
    {
     "name": "stdout",
     "output_type": "stream",
     "text": [
      "R      100.0000\n",
      "SR      24.3425\n",
      "BPB      1.6875\n",
      "dtype: float64\n"
     ]
    }
   ],
   "source": [
    "# A custom IQR function\n",
    "def iqr(column):\n",
    "    return column.quantile(0.75) - column.quantile(0.25)\n",
    "    \n",
    "# Print IQR of the temperature_c column\n",
    "print(new_powerplay_batting[['R',\"SR\",\"BPB\"]].agg(iqr))"
   ]
  },
  {
   "cell_type": "code",
   "execution_count": 43,
   "id": "61c1e9af",
   "metadata": {},
   "outputs": [
    {
     "name": "stdout",
     "output_type": "stream",
     "text": [
      "            R        SR     BPB\n",
      "iqr     100.0   24.3425  1.6875\n",
      "median  169.5  121.3500  5.1450\n"
     ]
    }
   ],
   "source": [
    "# Import NumPy and create custom IQR function\n",
    "import numpy as np\n",
    "def median(column):\n",
    "    return column.median()\n",
    "def iqr(column):\n",
    "    return column.quantile(0.75) - column.quantile(0.25)\n",
    "\n",
    "# Update to print IQR and median of R, SR, BPB\n",
    "print(new_powerplay_batting[[\"R\", \"SR\", \"BPB\"]].agg([iqr,median]))"
   ]
  },
  {
   "cell_type": "markdown",
   "id": "f589ff5a",
   "metadata": {},
   "source": [
    "## Cumulative statistics"
   ]
  },
  {
   "cell_type": "code",
   "execution_count": 44,
   "id": "9b94e5d1",
   "metadata": {},
   "outputs": [
    {
     "name": "stdout",
     "output_type": "stream",
     "text": [
      "             Player  cum_R  cum_max_SR\n",
      "0     KS Williamson    110       76.39\n",
      "1        Anuj Rawat    187       92.77\n",
      "2         AM Rahane    279       96.84\n",
      "3        D Padikkal    379      103.09\n",
      "4          KL Rahul    582      103.57\n",
      "5      F du Plessis    783      104.69\n",
      "6           VR Iyer    910      104.96\n",
      "7         DP Conway    995      111.84\n",
      "8      Ishan Kishan   1220      112.50\n",
      "9        RD Gaikwad   1406      113.41\n",
      "10       RM Patidar   1493      116.00\n",
      "11          V Kohli   1653      116.79\n",
      "12         S Dhawan   1895      116.91\n",
      "13     Shubman Gill   2110      118.13\n",
      "14       RV Uthappa   2244      120.72\n",
      "15          MS Wade   2355      121.98\n",
      "16        RG Sharma   2582      124.04\n",
      "17  Abhishek Sharma   2837      125.62\n",
      "18       MA Agarwal   2982      130.63\n",
      "19       JC Buttler   3356      133.57\n",
      "20          WP Saha   3573      133.95\n",
      "21         MR Marsh   3688      135.29\n",
      "22        Q de Kock   3945      136.70\n",
      "23      YBK Jaiswal   4117      138.71\n",
      "24          SS Iyer   4284      141.53\n",
      "25      RA Tripathi   4422      142.27\n",
      "26        SV Samson   4545      146.43\n",
      "27          PP Shaw   4762      150.69\n",
      "28        DA Warner   4987      154.11\n",
      "29      JM Bairstow   5168      170.75\n"
     ]
    }
   ],
   "source": [
    "# Get the cumulative sum of Runs, add as cum_R col\n",
    "powerplay_batting['cum_R'] = powerplay_batting[\"R\"].cumsum()\n",
    "\n",
    "# Get the cumulative max of SR, add as cum_max_sr col\n",
    "powerplay_batting['cum_max_SR'] = powerplay_batting[\"SR\"].cummax()\n",
    "#See the columns you calculated\n",
    "print(powerplay_batting[[\"Player\", \"cum_R\",\"cum_max_SR\"]])"
   ]
  },
  {
   "cell_type": "markdown",
   "id": "bcec3882",
   "metadata": {},
   "source": [
    "## Dropping duplicates"
   ]
  },
  {
   "cell_type": "code",
   "execution_count": 45,
   "id": "5d8ffdf1",
   "metadata": {},
   "outputs": [
    {
     "name": "stdout",
     "output_type": "stream",
     "text": [
      "             Player  Team\n",
      "0     KS Williamson   SRH\n",
      "1        Anuj Rawat   RCB\n",
      "2         AM Rahane   KKR\n",
      "3        D Padikkal    RR\n",
      "4          KL Rahul   LSG\n",
      "5      F du Plessis   RCB\n",
      "6           VR Iyer   KKR\n",
      "7         DP Conway   CSK\n",
      "8      Ishan Kishan    MI\n",
      "9        RD Gaikwad   CSK\n",
      "10       RM Patidar   RCB\n",
      "11          V Kohli   RCB\n",
      "12         S Dhawan  PBKS\n",
      "13     Shubman Gill    GT\n",
      "14       RV Uthappa   CSK\n",
      "15          MS Wade    GT\n",
      "16        RG Sharma    MI\n",
      "17  Abhishek Sharma   SRH\n",
      "18       MA Agarwal  PBKS\n",
      "19       JC Buttler    RR\n",
      "20          WP Saha    GT\n",
      "21         MR Marsh    DC\n",
      "22        Q de Kock   LSG\n",
      "23      YBK Jaiswal    RR\n",
      "24          SS Iyer   KKR\n",
      "25      RA Tripathi   SRH\n",
      "26        SV Samson    RR\n",
      "27          PP Shaw    DC\n",
      "28        DA Warner    DC\n",
      "29      JM Bairstow  PBKS\n",
      "10    RM Patidar\n",
      "24       SS Iyer\n",
      "26     SV Samson\n",
      "Name: Player, dtype: object\n"
     ]
    }
   ],
   "source": [
    "# Drop duplicate player,team combinations\n",
    "player_team = powerplay_batting.drop_duplicates(subset = [\"Player\",\"Team\"])\n",
    "print(player_team[[\"Player\",\"Team\"]])\n",
    "\n",
    "# Subset the rows where AVG is above 60 and drop duplicate players\n",
    "more_avg_players = powerplay_batting[powerplay_batting[\"Avg\"] >=  60].drop_duplicates(subset = \"Player\")\n",
    "# Print player col of more_avg_players\n",
    "print(more_avg_players['Player'])"
   ]
  },
  {
   "cell_type": "markdown",
   "id": "8b8ba26b",
   "metadata": {},
   "source": [
    "## Counting categorical variables"
   ]
  },
  {
   "cell_type": "code",
   "execution_count": 46,
   "id": "801b210a",
   "metadata": {},
   "outputs": [
    {
     "name": "stdout",
     "output_type": "stream",
     "text": [
      "RCB     4\n",
      "RR      4\n",
      "SRH     3\n",
      "KKR     3\n",
      "CSK     3\n",
      "PBKS    3\n",
      "GT      3\n",
      "DC      3\n",
      "LSG     2\n",
      "MI      2\n",
      "Name: Team, dtype: int64\n",
      "RCB     0.133333\n",
      "RR      0.133333\n",
      "SRH     0.100000\n",
      "KKR     0.100000\n",
      "CSK     0.100000\n",
      "PBKS    0.100000\n",
      "GT      0.100000\n",
      "DC      0.100000\n",
      "LSG     0.066667\n",
      "MI      0.066667\n",
      "Name: Team, dtype: float64\n",
      "RHB    19\n",
      "LHB    11\n",
      "Name: BT, dtype: int64\n",
      "RHB    0.633333\n",
      "LHB    0.366667\n",
      "Name: BT, dtype: float64\n"
     ]
    }
   ],
   "source": [
    "# Count the number of teams \n",
    "teams_count = new_powerplay_batting['Team'].value_counts()\n",
    "print(teams_count)\n",
    "\n",
    "# Get the proportion of stores of each type\n",
    "teams_count_prop = new_powerplay_batting[\"Team\"].value_counts(normalize = True)\n",
    "print(teams_count_prop)\n",
    "\n",
    "# Count the number of each department number and sort\n",
    "BT_counts_sorted = new_powerplay_batting['BT'].value_counts(sort = True)\n",
    "print(BT_counts_sorted)\n",
    "\n",
    "# Get the proportion of departments of each number and sort\n",
    "BT_props_sorted = new_powerplay_batting[\"BT\"].value_counts(sort=True, normalize= True)\n",
    "print(BT_props_sorted)"
   ]
  },
  {
   "cell_type": "markdown",
   "id": "ce4a7788",
   "metadata": {},
   "source": [
    "## What percent of Runs scored by each team?"
   ]
  },
  {
   "cell_type": "code",
   "execution_count": 47,
   "id": "2b42d902",
   "metadata": {},
   "outputs": [
    {
     "name": "stdout",
     "output_type": "stream",
     "text": [
      "[ 7.83668731  8.74613003  9.73297214  7.46904025 10.15866873 10.50696594\n",
      "  8.90092879 10.99071207 10.15866873 14.88003096]\n"
     ]
    }
   ],
   "source": [
    "# Calc total weekly sales\n",
    "all_runs = new_powerplay_batting[\"R\"].sum()\n",
    "\n",
    "# Subset for csk \n",
    "csk = new_powerplay_batting[new_powerplay_batting[\"Team\"] == \"CSK\"][\"R\"].sum()\n",
    "\n",
    "# Subset for mi\n",
    "mi = new_powerplay_batting[new_powerplay_batting[\"Team\"] == \"MI\"][\"R\"].sum()\n",
    "\n",
    "# Subset for srh\n",
    "srh = new_powerplay_batting[new_powerplay_batting[\"Team\"] == \"SRH\"][\"R\"].sum()\n",
    "\n",
    "# Subset for kkr \n",
    "kkr = new_powerplay_batting[new_powerplay_batting[\"Team\"] == \"KKR\"][\"R\"].sum()\n",
    "\n",
    "# Subset for rcb\n",
    "rcb = new_powerplay_batting[new_powerplay_batting[\"Team\"] == \"RCB\"][\"R\"].sum()\n",
    "\n",
    "# Subset for GT\n",
    "gt = new_powerplay_batting[new_powerplay_batting[\"Team\"] == \"GT\"][\"R\"].sum()\n",
    "\n",
    "# Subset for srh\n",
    "lsg = new_powerplay_batting[new_powerplay_batting[\"Team\"] == \"LSG\"][\"R\"].sum()\n",
    "\n",
    "# Subset for PBKS \n",
    "pbks = new_powerplay_batting[new_powerplay_batting[\"Team\"] == \"PBKS\"][\"R\"].sum()\n",
    "\n",
    "# Subset for dc\n",
    "dc = new_powerplay_batting[new_powerplay_batting[\"Team\"] == \"RCB\"][\"R\"].sum()\n",
    "\n",
    "# Subset for GT\n",
    "rr = new_powerplay_batting[new_powerplay_batting[\"Team\"] == \"RR\"][\"R\"].sum()\n",
    "\n",
    "# Get proportion for each type\n",
    "runs_propn_by_teams = [csk,mi,srh,kkr,rcb,gt,lsg,pbks,dc,rr] / all_runs\n",
    "print(runs_propn_by_teams*100)"
   ]
  },
  {
   "cell_type": "markdown",
   "id": "4d87e725",
   "metadata": {},
   "source": [
    "## Calculations with .groupby()\n",
    "\n",
    "The .groupby() method makes life much easier. In this exercise, you'll perform the same calculations as last time, except you'll use the .groupby() method. You'll also perform calculations on data grouped by two variables to see if sales differ by store type depending on if it's a holiday week or not. "
   ]
  },
  {
   "cell_type": "code",
   "execution_count": 48,
   "id": "82febe56",
   "metadata": {},
   "outputs": [
    {
     "name": "stdout",
     "output_type": "stream",
     "text": [
      "Team\n",
      "CSK     0.078367\n",
      "DC      0.107779\n",
      "GT      0.105070\n",
      "KKR     0.074690\n",
      "LSG     0.089009\n",
      "MI      0.087461\n",
      "PBKS    0.109907\n",
      "RCB     0.101587\n",
      "RR      0.148800\n",
      "SRH     0.097330\n",
      "Name: R, dtype: float64\n"
     ]
    }
   ],
   "source": [
    "# Group by team; calc total runs\n",
    "runs_by_team = new_powerplay_batting.groupby(\"Team\")[\"R\"].sum()\n",
    "\n",
    "# Get proportion for each type\n",
    "runs_propn_by_team = runs_by_team / sum(runs_by_team)\n",
    "print(runs_propn_by_team)"
   ]
  },
  {
   "cell_type": "code",
   "execution_count": 49,
   "id": "61a4394a",
   "metadata": {},
   "outputs": [
    {
     "name": "stdout",
     "output_type": "stream",
     "text": [
      "Team\n",
      "CSK      8.938547\n",
      "DC      12.849162\n",
      "GT       6.703911\n",
      "KKR      6.145251\n",
      "LSG     11.173184\n",
      "MI       9.497207\n",
      "PBKS    12.290503\n",
      "RCB      6.145251\n",
      "RR      19.553073\n",
      "SRH      6.703911\n",
      "Name: 6s, dtype: float64\n"
     ]
    }
   ],
   "source": [
    "# practice\n",
    "sixs_by_team = new_powerplay_batting.groupby(\"Team\")[\"6s\"].sum() \n",
    "# print(sixs_by_team)\n",
    "\n",
    "# get proporation for each type\n",
    "teams_prop_by_sixs = sixs_by_team / sum(sixs_by_team)\n",
    "print(teams_prop_by_sixs*100)"
   ]
  },
  {
   "cell_type": "code",
   "execution_count": 50,
   "id": "f5408ac6",
   "metadata": {},
   "outputs": [
    {
     "name": "stdout",
     "output_type": "stream",
     "text": [
      "Team\n",
      "CSK      6.687403\n",
      "DC      11.041991\n",
      "GT      12.597201\n",
      "KKR      7.309487\n",
      "LSG      6.842924\n",
      "MI       8.553655\n",
      "PBKS    10.886470\n",
      "RCB     11.041991\n",
      "RR      14.774495\n",
      "SRH     10.264386\n",
      "Name: 4s, dtype: float64\n"
     ]
    }
   ],
   "source": [
    "# practice\n",
    "fours_by_team = new_powerplay_batting.groupby(\"Team\")[\"4s\"].sum() \n",
    "# print(fours_by_team)\n",
    "\n",
    "# get proporation for each type\n",
    "teams_prop_by_fours = fours_by_team / sum(fours_by_team)\n",
    "print(teams_prop_by_fours*100)"
   ]
  },
  {
   "cell_type": "code",
   "execution_count": 51,
   "id": "a95f3274",
   "metadata": {},
   "outputs": [
    {
     "name": "stderr",
     "output_type": "stream",
     "text": [
      "C:\\Users\\pavan\\AppData\\Local\\Temp\\ipykernel_88744\\4071659903.py:1: SettingWithCopyWarning: \n",
      "A value is trying to be set on a copy of a slice from a DataFrame.\n",
      "Try using .loc[row_indexer,col_indexer] = value instead\n",
      "\n",
      "See the caveats in the documentation: https://pandas.pydata.org/pandas-docs/stable/user_guide/indexing.html#returning-a-view-versus-a-copy\n",
      "  new_powerplay_batting[\"Boundaries\"] = new_powerplay_batting[\"4s\"] + new_powerplay_batting[\"6s\"]\n"
     ]
    }
   ],
   "source": [
    "new_powerplay_batting[\"Boundaries\"] = new_powerplay_batting[\"4s\"] + new_powerplay_batting[\"6s\"]"
   ]
  },
  {
   "cell_type": "code",
   "execution_count": 52,
   "id": "af64c358",
   "metadata": {},
   "outputs": [
    {
     "name": "stdout",
     "output_type": "stream",
     "text": [
      "Team\n",
      "CSK      59\n",
      "DC       94\n",
      "GT       93\n",
      "KKR      58\n",
      "LSG      64\n",
      "MI       72\n",
      "PBKS     92\n",
      "RCB      82\n",
      "RR      130\n",
      "SRH      78\n",
      "Name: Boundaries, dtype: int64\n",
      "Team\n",
      "CSK      7.177616\n",
      "DC      11.435523\n",
      "GT      11.313869\n",
      "KKR      7.055961\n",
      "LSG      7.785888\n",
      "MI       8.759124\n",
      "PBKS    11.192214\n",
      "RCB      9.975669\n",
      "RR      15.815085\n",
      "SRH      9.489051\n",
      "Name: Boundaries, dtype: float64\n"
     ]
    }
   ],
   "source": [
    "# practice\n",
    "boundaries_by_team = new_powerplay_batting.groupby(\"Team\")[\"Boundaries\"].sum() \n",
    "print(boundaries_by_team)\n",
    "\n",
    "# get proporation for each type\n",
    "teams_prop_by_boundaries = boundaries_by_team / sum(boundaries_by_team)\n",
    "print(teams_prop_by_boundaries*100)"
   ]
  },
  {
   "cell_type": "code",
   "execution_count": 53,
   "id": "d49f054a",
   "metadata": {},
   "outputs": [
    {
     "name": "stdout",
     "output_type": "stream",
     "text": [
      "Team  BT \n",
      "CSK   LHB    11\n",
      "      RHB    48\n",
      "DC    LHB    40\n",
      "      RHB    54\n",
      "GT    LHB    21\n",
      "      RHB    72\n",
      "KKR   LHB    18\n",
      "      RHB    40\n",
      "LSG   LHB    38\n",
      "      RHB    26\n",
      "MI    LHB    35\n",
      "      RHB    37\n",
      "PBKS  LHB    35\n",
      "      RHB    57\n",
      "RCB   LHB    11\n",
      "      RHB    71\n",
      "RR    LHB    45\n",
      "      RHB    85\n",
      "SRH   LHB    42\n",
      "      RHB    36\n",
      "Name: Boundaries, dtype: int64\n"
     ]
    }
   ],
   "source": [
    "# From previous step\n",
    "bound_by_type = new_powerplay_batting.groupby(\"Team\")[\"Boundaries\"].sum()\n",
    "\n",
    "# Group by team and BT; calc total Boundaries\n",
    "bound_by_team_and_bt = new_powerplay_batting.groupby([\"Team\",\"BT\"])[\"Boundaries\"].sum()\n",
    "print(bound_by_team_and_bt)"
   ]
  },
  {
   "cell_type": "markdown",
   "id": "18775092",
   "metadata": {},
   "source": [
    "## Multiple grouped summaries"
   ]
  },
  {
   "cell_type": "code",
   "execution_count": 54,
   "id": "e16fad78",
   "metadata": {},
   "outputs": [
    {
     "name": "stdout",
     "output_type": "stream",
     "text": [
      "         min     max        mean   median\n",
      "Team                                     \n",
      "CSK   111.84  120.72  115.323333  113.410\n",
      "DC    135.29  154.11  146.696667  150.690\n",
      "GT    118.13  133.95  124.686667  121.980\n",
      "KKR    96.84  141.53  114.443333  104.960\n",
      "LSG   103.57  136.70  120.135000  120.135\n",
      "MI    112.50  124.04  118.270000  118.270\n",
      "PBKS  116.91  170.75  139.430000  130.630\n",
      "RCB    92.77  116.79  107.562500  110.345\n",
      "RR    103.09  146.43  130.450000  136.140\n",
      "SRH    76.39  142.27  114.760000  125.620\n",
      "          SR                                BPB                        \n",
      "         min     max        mean   median   min    max      mean median\n",
      "Team                                                                   \n",
      "CSK   111.84  120.72  115.323333  113.410  5.29   6.91  6.090000  6.070\n",
      "DC    135.29  154.11  146.696667  150.690  3.65   5.31  4.250000  3.790\n",
      "GT    118.13  133.95  124.686667  121.980  4.15   5.52  4.666667  4.330\n",
      "KKR    96.84  141.53  114.443333  104.960  4.37   7.31  6.133333  6.720\n",
      "LSG   103.57  136.70  120.135000  120.135  4.95   7.54  6.245000  6.245\n",
      "MI    112.50  124.04  118.270000  118.270  4.95   5.71  5.330000  5.330\n",
      "PBKS  116.91  170.75  139.430000  130.630  3.12   5.91  4.620000  4.830\n",
      "RCB    92.77  116.79  107.562500  110.345  5.00   7.55  6.055000  5.835\n",
      "RR    103.09  146.43  130.450000  136.140  3.82   6.06  4.650000  4.360\n",
      "SRH    76.39  142.27  114.760000  125.620  4.41  10.29  6.510000  4.830\n"
     ]
    }
   ],
   "source": [
    "#practice \n",
    "# for each team batters , aggeragate strikerate: get min,max,mean,median\n",
    "teams_str = new_powerplay_batting.groupby(\"Team\")[\"SR\"].agg([min,max,np.mean,np.median])\n",
    "print(teams_str)\n",
    "\n",
    "# for each team batters , aggerate strike rate and BPB: get min,max,mean,median\n",
    "teams_str_bpb= new_powerplay_batting.groupby(\"Team\")[[\"SR\",\"BPB\"]].agg([min,max,np.mean,np.median])\n",
    "print(teams_str_bpb)"
   ]
  },
  {
   "cell_type": "markdown",
   "id": "48a935e3",
   "metadata": {},
   "source": [
    "## Pivot tables"
   ]
  },
  {
   "cell_type": "code",
   "execution_count": 55,
   "id": "14d68422",
   "metadata": {},
   "outputs": [
    {
     "name": "stdout",
     "output_type": "stream",
     "text": [
      "              SR\n",
      "Team            \n",
      "CSK   115.323333\n",
      "DC    146.696667\n",
      "GT    124.686667\n",
      "KKR   114.443333\n",
      "LSG   120.135000\n",
      "MI    118.270000\n",
      "PBKS  139.430000\n",
      "RCB   107.562500\n",
      "RR    130.450000\n",
      "SRH   114.760000\n"
     ]
    }
   ],
   "source": [
    "# Pivot for mean sr for each team\n",
    "mean_str_by_team = new_powerplay_batting.pivot_table(values = \"SR\",index = \"Team\")\n",
    "\n",
    "# Print mean_str_by_team\n",
    "print(mean_str_by_team)"
   ]
  },
  {
   "cell_type": "code",
   "execution_count": 56,
   "id": "920cfc2a",
   "metadata": {},
   "outputs": [
    {
     "name": "stdout",
     "output_type": "stream",
     "text": [
      "            mean   median\n",
      "              SR       SR\n",
      "Team                     \n",
      "CSK   115.323333  113.410\n",
      "DC    146.696667  150.690\n",
      "GT    124.686667  121.980\n",
      "KKR   114.443333  104.960\n",
      "LSG   120.135000  120.135\n",
      "MI    118.270000  118.270\n",
      "PBKS  139.430000  130.630\n",
      "RCB   107.562500  110.345\n",
      "RR    130.450000  136.140\n",
      "SRH   114.760000  125.620\n"
     ]
    }
   ],
   "source": [
    "# Import NumPy as np\n",
    "import numpy as np\n",
    "\n",
    "# Pivot for mean and median str for each team\n",
    "mean_med_str_by_team = new_powerplay_batting.pivot_table(values=\"SR\", index=\"Team\", aggfunc=[np.mean, np.median])\n",
    "\n",
    "# Print mean_med_str_by_team\n",
    "print(mean_med_str_by_team)"
   ]
  },
  {
   "cell_type": "code",
   "execution_count": 57,
   "id": "e8f25fca",
   "metadata": {},
   "outputs": [
    {
     "name": "stdout",
     "output_type": "stream",
     "text": [
      "        mean            \n",
      "BT       LHB         RHB\n",
      "Team                    \n",
      "CSK   111.84  117.065000\n",
      "DC    154.11  142.990000\n",
      "GT    121.98  126.040000\n",
      "KKR   104.96  119.185000\n",
      "LSG   136.70  103.570000\n",
      "MI    112.50  124.040000\n",
      "PBKS  116.91  150.690000\n",
      "RCB    92.77  112.493333\n",
      "RR    120.90  140.000000\n",
      "SRH   125.62  109.330000\n"
     ]
    }
   ],
   "source": [
    "# Pivot for mean weekly_sales by store type and holiday \n",
    "import numpy as np\n",
    "mean_str_by_team_and_bt = new_powerplay_batting.pivot_table(values = \"SR\",index = \"Team\" ,columns = \"BT\",\n",
    "                                               aggfunc = [np.mean])\n",
    "\n",
    "\n",
    "# Print mean_str_by_team_and_bt\n",
    "print(mean_str_by_team_and_bt)"
   ]
  },
  {
   "cell_type": "markdown",
   "id": "64139cc4",
   "metadata": {},
   "source": [
    "## Fill in missing values and sum values with pivot tables"
   ]
  },
  {
   "cell_type": "code",
   "execution_count": 58,
   "id": "474aea41",
   "metadata": {},
   "outputs": [
    {
     "name": "stdout",
     "output_type": "stream",
     "text": [
      "BT       LHB         RHB\n",
      "Team                    \n",
      "CSK   111.84  117.065000\n",
      "DC    154.11  142.990000\n",
      "GT    121.98  126.040000\n",
      "KKR   104.96  119.185000\n",
      "LSG   136.70  103.570000\n",
      "MI    112.50  124.040000\n",
      "PBKS  116.91  150.690000\n",
      "RCB    92.77  112.493333\n",
      "RR    120.90  140.000000\n",
      "SRH   125.62  109.330000\n"
     ]
    }
   ],
   "source": [
    "# Print mean str by team and bt; fill missing values with 0\n",
    "print(new_powerplay_batting.pivot_table(values = \"SR\",index = \"Team\",columns = \"BT\",fill_value = 0))"
   ]
  },
  {
   "cell_type": "code",
   "execution_count": 63,
   "id": "cf88dc1c",
   "metadata": {},
   "outputs": [
    {
     "name": "stdout",
     "output_type": "stream",
     "text": [
      "BT           LHB         RHB         All\n",
      "Team                                    \n",
      "CSK   111.840000  117.065000  115.323333\n",
      "DC    154.110000  142.990000  146.696667\n",
      "GT    121.980000  126.040000  124.686667\n",
      "KKR   104.960000  119.185000  114.443333\n",
      "LSG   136.700000  103.570000  120.135000\n",
      "MI    112.500000  124.040000  118.270000\n",
      "PBKS  116.910000  150.690000  139.430000\n",
      "RCB    92.770000  112.493333  107.562500\n",
      "RR    120.900000  140.000000  130.450000\n",
      "SRH   125.620000  109.330000  114.760000\n",
      "All   119.926364  125.036316  123.162667\n"
     ]
    }
   ],
   "source": [
    "# Print mean str by team and bt; fill missing values with 0\n",
    "print(new_powerplay_batting.pivot_table(values = \"SR\",index = \"Team\",columns = \"BT\",fill_value = 0\n",
    "                                                      ,margins = True))"
   ]
  },
  {
   "cell_type": "markdown",
   "id": "ffda3dc3",
   "metadata": {},
   "source": [
    "# Slicing and Indexing DataFrames"
   ]
  },
  {
   "cell_type": "code",
   "execution_count": 64,
   "id": "9110a1e6",
   "metadata": {},
   "outputs": [],
   "source": [
    "import pandas as pd\n",
    "temperatures = pd.read_csv(\"temperatures.csv\")"
   ]
  },
  {
   "cell_type": "code",
   "execution_count": 65,
   "id": "3e361917",
   "metadata": {},
   "outputs": [
    {
     "name": "stdout",
     "output_type": "stream",
     "text": [
      "   Unnamed: 0        date     city        country  avg_temp_c\n",
      "0           0  2000-01-01  Abidjan  Côte D'Ivoire      27.293\n",
      "1           1  2000-02-01  Abidjan  Côte D'Ivoire      27.685\n",
      "2           2  2000-03-01  Abidjan  Côte D'Ivoire      29.061\n",
      "3           3  2000-04-01  Abidjan  Côte D'Ivoire      28.162\n",
      "4           4  2000-05-01  Abidjan  Côte D'Ivoire      27.547\n"
     ]
    }
   ],
   "source": [
    "# looking at temperatures\n",
    "print(temperatures.head())"
   ]
  },
  {
   "cell_type": "code",
   "execution_count": 66,
   "id": "6e8cfaf4",
   "metadata": {},
   "outputs": [
    {
     "name": "stdout",
     "output_type": "stream",
     "text": [
      "          Player Team   BT   I    R    B  Outs    Avg      SR  4s  6s    BP4  \\\n",
      "0  KS Williamson  SRH  RHB  11  110  144     8  13.75   76.39  11   3  13.09   \n",
      "1     Anuj Rawat  RCB  LHB   8   77   83     5  15.40   92.77   8   3  10.38   \n",
      "2      AM Rahane  KKR  RHB   7   92   95     4  23.00   96.84  10   3   9.50   \n",
      "3     D Padikkal   RR  LHB   9  100   97     5  20.00  103.09  14   2   6.93   \n",
      "4       KL Rahul  LSG  RHB  14  203  196     6  33.83  103.57  18   8  10.89   \n",
      "\n",
      "     BPB  NBSTR Runs From 4's % Runs From Bound % other runs %  \\\n",
      "0  10.29  36.92           40.0%             56.4%        43.6%   \n",
      "1   7.55  37.50           41.6%             64.9%        35.1%   \n",
      "2   7.31  41.46           43.5%             63.0%        37.0%   \n",
      "3   6.06  39.51           56.0%             68.0%        32.0%   \n",
      "4   7.54  48.82           35.5%             59.1%        40.9%   \n",
      "\n",
      "   dream_11_points  Boundaries  \n",
      "0              127          14  \n",
      "1               91          11  \n",
      "2              108          13  \n",
      "3              118          16  \n",
      "4              237          26  \n"
     ]
    }
   ],
   "source": [
    "print(new_powerplay_batting.head(5))"
   ]
  },
  {
   "cell_type": "code",
   "execution_count": 67,
   "id": "ad2aec71",
   "metadata": {},
   "outputs": [],
   "source": [
    "new_powerplay_batting_ind = new_powerplay_batting.set_index(\"Team\")"
   ]
  },
  {
   "cell_type": "code",
   "execution_count": 68,
   "id": "2ecc4781",
   "metadata": {},
   "outputs": [
    {
     "name": "stdout",
     "output_type": "stream",
     "text": [
      "               Player   BT   I    R    B  Outs     Avg      SR  4s  6s    BP4  \\\n",
      "Team                                                                            \n",
      "SRH     KS Williamson  RHB  11  110  144     8   13.75   76.39  11   3  13.09   \n",
      "RCB        Anuj Rawat  LHB   8   77   83     5   15.40   92.77   8   3  10.38   \n",
      "KKR         AM Rahane  RHB   7   92   95     4   23.00   96.84  10   3   9.50   \n",
      "RR         D Padikkal  LHB   9  100   97     5   20.00  103.09  14   2   6.93   \n",
      "LSG          KL Rahul  RHB  14  203  196     6   33.83  103.57  18   8  10.89   \n",
      "RCB      F du Plessis  RHB  16  201  192     7   28.71  104.69  28   3   6.86   \n",
      "KKR           VR Iyer  LHB  10  127  121     8   15.88  104.96  12   6  10.08   \n",
      "CSK         DP Conway  LHB   7   85   76     3   28.33  111.84   7   4  10.86   \n",
      "MI       Ishan Kishan  LHB  14  225  200     4   56.25  112.50  30   5   6.67   \n",
      "CSK        RD Gaikwad  RHB  14  186  164     8   23.25  113.41  20   7   8.20   \n",
      "RCB        RM Patidar  RHB   6   87   75     0   87.00  116.00  13   2   5.77   \n",
      "RCB           V Kohli  RHB  13  160  137     8   20.00  116.79  22   3   6.23   \n",
      "PBKS         S Dhawan  LHB  14  242  207     6   40.33  116.91  27   8   7.67   \n",
      "GT       Shubman Gill  RHB  16  215  182     6   35.83  118.13  30   3   6.07   \n",
      "CSK        RV Uthappa  RHB   9  134  111     5   26.80  120.72  16   5   6.94   \n",
      "GT            MS Wade  LHB   9  111   91     6   18.50  121.98  19   2   4.79   \n",
      "MI          RG Sharma  RHB  14  227  183     9   25.22  124.04  25  12   7.32   \n",
      "SRH   Abhishek Sharma  LHB  14  255  203     6   42.50  125.62  39   3   5.21   \n",
      "PBKS       MA Agarwal  RHB   8  145  111     6   24.17  130.63  18   5   6.17   \n",
      "RR         JC Buttler  RHB  17  374  280     7   53.43  133.57  43  20   6.51   \n",
      "GT            WP Saha  RHB  11  217  162     4   54.25  133.95  32   7   5.06   \n",
      "DC           MR Marsh  RHB   8  115   85     3   38.33  135.29   8   8  10.63   \n",
      "LSG         Q de Kock  LHB  15  257  188     9   28.56  136.70  26  12   7.23   \n",
      "RR        YBK Jaiswal  LHB  10  172  124     5   34.40  138.71  21   8   5.90   \n",
      "KKR           SS Iyer  RHB  11  167  118     2   83.50  141.53  25   2   4.72   \n",
      "SRH       RA Tripathi  RHB  11  138   97     3   46.00  142.27  16   6   6.06   \n",
      "RR          SV Samson  RHB  11  123   84     0  123.00  146.43  17   5   4.94   \n",
      "DC            PP Shaw  RHB  10  217  144     5   43.40  150.69  31   7   4.65   \n",
      "DC          DA Warner  LHB  12  225  146     5   45.00  154.11  32   8   4.56   \n",
      "PBKS      JM Bairstow  RHB   9  181  106     4   45.25  170.75  25   9   4.24   \n",
      "\n",
      "        BPB  NBSTR Runs From 4's % Runs From Bound % other runs %  \\\n",
      "Team                                                                \n",
      "SRH   10.29  36.92           40.0%             56.4%        43.6%   \n",
      "RCB    7.55  37.50           41.6%             64.9%        35.1%   \n",
      "KKR    7.31  41.46           43.5%             63.0%        37.0%   \n",
      "RR     6.06  39.51           56.0%             68.0%        32.0%   \n",
      "LSG    7.54  48.82           35.5%             59.1%        40.9%   \n",
      "RCB    6.19  44.10           55.7%             64.7%        35.3%   \n",
      "KKR    6.72  41.75           37.8%             66.1%        33.9%   \n",
      "CSK    6.91  50.77           32.9%             61.2%        38.8%   \n",
      "MI     5.71  45.45           53.3%             66.7%        33.3%   \n",
      "CSK    6.07  46.72           43.0%             65.6%        34.4%   \n",
      "RCB    5.00  38.33           59.8%             73.6%        26.4%   \n",
      "RCB    5.48  48.21           55.0%             66.3%        33.8%   \n",
      "PBKS   5.91  50.00           44.6%             64.5%        35.5%   \n",
      "GT     5.52  51.68           55.8%             64.2%        35.8%   \n",
      "CSK    5.29  44.44           47.8%             70.1%        29.9%   \n",
      "GT     4.33  32.86           68.5%             79.3%        20.7%   \n",
      "MI     4.95  37.67           44.1%             75.8%        24.2%   \n",
      "SRH    4.83  50.31           61.2%             68.2%        31.8%   \n",
      "PBKS   4.83  48.86           49.7%             70.3%        29.7%   \n",
      "RR     4.44  37.79           46.0%             78.1%        21.9%   \n",
      "GT     4.15  38.21           59.0%             78.3%        21.7%   \n",
      "DC     5.31  50.72           27.8%             69.6%        30.4%   \n",
      "LSG    4.95  54.00           40.5%             68.5%        31.5%   \n",
      "RR     4.28  42.11           48.8%             76.7%        23.3%   \n",
      "KKR    4.37  60.44           59.9%             67.1%        32.9%   \n",
      "SRH    4.41  50.67           46.4%             72.5%        27.5%   \n",
      "RR     3.82  40.32           55.3%             79.7%        20.3%   \n",
      "DC     3.79  48.11           57.1%             76.5%        23.5%   \n",
      "DC     3.65  46.23           56.9%             78.2%        21.8%   \n",
      "PBKS   3.12  37.50           55.2%             85.1%        14.9%   \n",
      "\n",
      "      dream_11_points  Boundaries  \n",
      "Team                               \n",
      "SRH               127          14  \n",
      "RCB                91          11  \n",
      "KKR               108          13  \n",
      "RR                118          16  \n",
      "LSG               237          26  \n",
      "RCB               235          31  \n",
      "KKR               151          18  \n",
      "CSK               100          11  \n",
      "MI                265          35  \n",
      "CSK               220          27  \n",
      "RCB               104          15  \n",
      "RCB               188          25  \n",
      "PBKS              285          35  \n",
      "GT                251          33  \n",
      "CSK               160          21  \n",
      "GT                134          21  \n",
      "MI                276          37  \n",
      "SRH               300          42  \n",
      "PBKS              173          23  \n",
      "RR                457          63  \n",
      "GT                263          39  \n",
      "DC                139          16  \n",
      "LSG               307          38  \n",
      "RR                209          29  \n",
      "KKR               196          27  \n",
      "SRH               166          22  \n",
      "RR                150          22  \n",
      "DC                262          38  \n",
      "DC                273          40  \n",
      "PBKS              224          34  \n"
     ]
    }
   ],
   "source": [
    "print(new_powerplay_batting_ind)"
   ]
  },
  {
   "cell_type": "code",
   "execution_count": 69,
   "id": "097bfba3",
   "metadata": {},
   "outputs": [],
   "source": [
    "new_powerplay_batting = new_powerplay_batting_ind.reset_index()"
   ]
  },
  {
   "cell_type": "code",
   "execution_count": 70,
   "id": "3fb1fcd4",
   "metadata": {},
   "outputs": [
    {
     "name": "stdout",
     "output_type": "stream",
     "text": [
      "    Team           Player   BT   I    R    B  Outs     Avg      SR  4s  6s  \\\n",
      "0    SRH    KS Williamson  RHB  11  110  144     8   13.75   76.39  11   3   \n",
      "1    RCB       Anuj Rawat  LHB   8   77   83     5   15.40   92.77   8   3   \n",
      "2    KKR        AM Rahane  RHB   7   92   95     4   23.00   96.84  10   3   \n",
      "3     RR       D Padikkal  LHB   9  100   97     5   20.00  103.09  14   2   \n",
      "4    LSG         KL Rahul  RHB  14  203  196     6   33.83  103.57  18   8   \n",
      "5    RCB     F du Plessis  RHB  16  201  192     7   28.71  104.69  28   3   \n",
      "6    KKR          VR Iyer  LHB  10  127  121     8   15.88  104.96  12   6   \n",
      "7    CSK        DP Conway  LHB   7   85   76     3   28.33  111.84   7   4   \n",
      "8     MI     Ishan Kishan  LHB  14  225  200     4   56.25  112.50  30   5   \n",
      "9    CSK       RD Gaikwad  RHB  14  186  164     8   23.25  113.41  20   7   \n",
      "10   RCB       RM Patidar  RHB   6   87   75     0   87.00  116.00  13   2   \n",
      "11   RCB          V Kohli  RHB  13  160  137     8   20.00  116.79  22   3   \n",
      "12  PBKS         S Dhawan  LHB  14  242  207     6   40.33  116.91  27   8   \n",
      "13    GT     Shubman Gill  RHB  16  215  182     6   35.83  118.13  30   3   \n",
      "14   CSK       RV Uthappa  RHB   9  134  111     5   26.80  120.72  16   5   \n",
      "15    GT          MS Wade  LHB   9  111   91     6   18.50  121.98  19   2   \n",
      "16    MI        RG Sharma  RHB  14  227  183     9   25.22  124.04  25  12   \n",
      "17   SRH  Abhishek Sharma  LHB  14  255  203     6   42.50  125.62  39   3   \n",
      "18  PBKS       MA Agarwal  RHB   8  145  111     6   24.17  130.63  18   5   \n",
      "19    RR       JC Buttler  RHB  17  374  280     7   53.43  133.57  43  20   \n",
      "20    GT          WP Saha  RHB  11  217  162     4   54.25  133.95  32   7   \n",
      "21    DC         MR Marsh  RHB   8  115   85     3   38.33  135.29   8   8   \n",
      "22   LSG        Q de Kock  LHB  15  257  188     9   28.56  136.70  26  12   \n",
      "23    RR      YBK Jaiswal  LHB  10  172  124     5   34.40  138.71  21   8   \n",
      "24   KKR          SS Iyer  RHB  11  167  118     2   83.50  141.53  25   2   \n",
      "25   SRH      RA Tripathi  RHB  11  138   97     3   46.00  142.27  16   6   \n",
      "26    RR        SV Samson  RHB  11  123   84     0  123.00  146.43  17   5   \n",
      "27    DC          PP Shaw  RHB  10  217  144     5   43.40  150.69  31   7   \n",
      "28    DC        DA Warner  LHB  12  225  146     5   45.00  154.11  32   8   \n",
      "29  PBKS      JM Bairstow  RHB   9  181  106     4   45.25  170.75  25   9   \n",
      "\n",
      "      BP4    BPB  NBSTR Runs From 4's % Runs From Bound % other runs %  \\\n",
      "0   13.09  10.29  36.92           40.0%             56.4%        43.6%   \n",
      "1   10.38   7.55  37.50           41.6%             64.9%        35.1%   \n",
      "2    9.50   7.31  41.46           43.5%             63.0%        37.0%   \n",
      "3    6.93   6.06  39.51           56.0%             68.0%        32.0%   \n",
      "4   10.89   7.54  48.82           35.5%             59.1%        40.9%   \n",
      "5    6.86   6.19  44.10           55.7%             64.7%        35.3%   \n",
      "6   10.08   6.72  41.75           37.8%             66.1%        33.9%   \n",
      "7   10.86   6.91  50.77           32.9%             61.2%        38.8%   \n",
      "8    6.67   5.71  45.45           53.3%             66.7%        33.3%   \n",
      "9    8.20   6.07  46.72           43.0%             65.6%        34.4%   \n",
      "10   5.77   5.00  38.33           59.8%             73.6%        26.4%   \n",
      "11   6.23   5.48  48.21           55.0%             66.3%        33.8%   \n",
      "12   7.67   5.91  50.00           44.6%             64.5%        35.5%   \n",
      "13   6.07   5.52  51.68           55.8%             64.2%        35.8%   \n",
      "14   6.94   5.29  44.44           47.8%             70.1%        29.9%   \n",
      "15   4.79   4.33  32.86           68.5%             79.3%        20.7%   \n",
      "16   7.32   4.95  37.67           44.1%             75.8%        24.2%   \n",
      "17   5.21   4.83  50.31           61.2%             68.2%        31.8%   \n",
      "18   6.17   4.83  48.86           49.7%             70.3%        29.7%   \n",
      "19   6.51   4.44  37.79           46.0%             78.1%        21.9%   \n",
      "20   5.06   4.15  38.21           59.0%             78.3%        21.7%   \n",
      "21  10.63   5.31  50.72           27.8%             69.6%        30.4%   \n",
      "22   7.23   4.95  54.00           40.5%             68.5%        31.5%   \n",
      "23   5.90   4.28  42.11           48.8%             76.7%        23.3%   \n",
      "24   4.72   4.37  60.44           59.9%             67.1%        32.9%   \n",
      "25   6.06   4.41  50.67           46.4%             72.5%        27.5%   \n",
      "26   4.94   3.82  40.32           55.3%             79.7%        20.3%   \n",
      "27   4.65   3.79  48.11           57.1%             76.5%        23.5%   \n",
      "28   4.56   3.65  46.23           56.9%             78.2%        21.8%   \n",
      "29   4.24   3.12  37.50           55.2%             85.1%        14.9%   \n",
      "\n",
      "    dream_11_points  Boundaries  \n",
      "0               127          14  \n",
      "1                91          11  \n",
      "2               108          13  \n",
      "3               118          16  \n",
      "4               237          26  \n",
      "5               235          31  \n",
      "6               151          18  \n",
      "7               100          11  \n",
      "8               265          35  \n",
      "9               220          27  \n",
      "10              104          15  \n",
      "11              188          25  \n",
      "12              285          35  \n",
      "13              251          33  \n",
      "14              160          21  \n",
      "15              134          21  \n",
      "16              276          37  \n",
      "17              300          42  \n",
      "18              173          23  \n",
      "19              457          63  \n",
      "20              263          39  \n",
      "21              139          16  \n",
      "22              307          38  \n",
      "23              209          29  \n",
      "24              196          27  \n",
      "25              166          22  \n",
      "26              150          22  \n",
      "27              262          38  \n",
      "28              273          40  \n",
      "29              224          34  \n"
     ]
    }
   ],
   "source": [
    "print(new_powerplay_batting)"
   ]
  },
  {
   "cell_type": "markdown",
   "id": "ac94248d",
   "metadata": {},
   "source": [
    "## Subsetting with .loc[]\n",
    "\n",
    "The killer feature for indexes is .loc[]: a subsetting method that accepts index values. When you pass it a single argument, it will take a subset of rows.\n",
    "\n",
    "The code for subsetting using .loc[] can be easier to read than standard square bracket subsetting, which can make your code less burdensome to maintain.\n",
    "\n",
    "pandas is loaded as pd. temperatures and temperatures_ind are available; the latter is indexed by city."
   ]
  },
  {
   "cell_type": "code",
   "execution_count": 73,
   "id": "5bb44ab1",
   "metadata": {},
   "outputs": [
    {
     "name": "stdout",
     "output_type": "stream",
     "text": [
      "            Player   BT   I    R    B  Outs     Avg      SR  4s  6s    BP4  \\\n",
      "Team                                                                         \n",
      "GT    Shubman Gill  RHB  16  215  182     6   35.83  118.13  30   3   6.07   \n",
      "GT         MS Wade  LHB   9  111   91     6   18.50  121.98  19   2   4.79   \n",
      "GT         WP Saha  RHB  11  217  162     4   54.25  133.95  32   7   5.06   \n",
      "RR      D Padikkal  LHB   9  100   97     5   20.00  103.09  14   2   6.93   \n",
      "RR      JC Buttler  RHB  17  374  280     7   53.43  133.57  43  20   6.51   \n",
      "RR     YBK Jaiswal  LHB  10  172  124     5   34.40  138.71  21   8   5.90   \n",
      "RR       SV Samson  RHB  11  123   84     0  123.00  146.43  17   5   4.94   \n",
      "LSG       KL Rahul  RHB  14  203  196     6   33.83  103.57  18   8  10.89   \n",
      "LSG      Q de Kock  LHB  15  257  188     9   28.56  136.70  26  12   7.23   \n",
      "RCB     Anuj Rawat  LHB   8   77   83     5   15.40   92.77   8   3  10.38   \n",
      "RCB   F du Plessis  RHB  16  201  192     7   28.71  104.69  28   3   6.86   \n",
      "RCB     RM Patidar  RHB   6   87   75     0   87.00  116.00  13   2   5.77   \n",
      "RCB        V Kohli  RHB  13  160  137     8   20.00  116.79  22   3   6.23   \n",
      "\n",
      "       BPB  NBSTR Runs From 4's % Runs From Bound % other runs %  \\\n",
      "Team                                                               \n",
      "GT    5.52  51.68           55.8%             64.2%        35.8%   \n",
      "GT    4.33  32.86           68.5%             79.3%        20.7%   \n",
      "GT    4.15  38.21           59.0%             78.3%        21.7%   \n",
      "RR    6.06  39.51           56.0%             68.0%        32.0%   \n",
      "RR    4.44  37.79           46.0%             78.1%        21.9%   \n",
      "RR    4.28  42.11           48.8%             76.7%        23.3%   \n",
      "RR    3.82  40.32           55.3%             79.7%        20.3%   \n",
      "LSG   7.54  48.82           35.5%             59.1%        40.9%   \n",
      "LSG   4.95  54.00           40.5%             68.5%        31.5%   \n",
      "RCB   7.55  37.50           41.6%             64.9%        35.1%   \n",
      "RCB   6.19  44.10           55.7%             64.7%        35.3%   \n",
      "RCB   5.00  38.33           59.8%             73.6%        26.4%   \n",
      "RCB   5.48  48.21           55.0%             66.3%        33.8%   \n",
      "\n",
      "      dream_11_points  Boundaries  \n",
      "Team                               \n",
      "GT                251          33  \n",
      "GT                134          21  \n",
      "GT                263          39  \n",
      "RR                118          16  \n",
      "RR                457          63  \n",
      "RR                209          29  \n",
      "RR                150          22  \n",
      "LSG               237          26  \n",
      "LSG               307          38  \n",
      "RCB                91          11  \n",
      "RCB               235          31  \n",
      "RCB               104          15  \n",
      "RCB               188          25  \n"
     ]
    }
   ],
   "source": [
    "# Make a list of playoff teams to subset on\n",
    "playoff_teams= [\"GT\",\"RR\",\"LSG\",\"RCB\"]\n",
    "\n",
    "# Subset new_powerplay_batting_ind using .loc[]\n",
    "print(new_powerplay_batting_ind.loc[playoff_teams])"
   ]
  },
  {
   "cell_type": "code",
   "execution_count": 74,
   "id": "a409fc5e",
   "metadata": {},
   "outputs": [
    {
     "name": "stdout",
     "output_type": "stream",
     "text": [
      "                Player   I    R    B  Outs    Avg      SR  4s  6s   BP4   BPB  \\\n",
      "Team BT                                                                         \n",
      "RR   LHB    D Padikkal   9  100   97     5  20.00  103.09  14   2  6.93  6.06   \n",
      "     LHB   YBK Jaiswal  10  172  124     5  34.40  138.71  21   8  5.90  4.28   \n",
      "GT   RHB  Shubman Gill  16  215  182     6  35.83  118.13  30   3  6.07  5.52   \n",
      "     RHB       WP Saha  11  217  162     4  54.25  133.95  32   7  5.06  4.15   \n",
      "\n",
      "          NBSTR Runs From 4's % Runs From Bound % other runs %  \\\n",
      "Team BT                                                          \n",
      "RR   LHB  39.51           56.0%             68.0%        32.0%   \n",
      "     LHB  42.11           48.8%             76.7%        23.3%   \n",
      "GT   RHB  51.68           55.8%             64.2%        35.8%   \n",
      "     RHB  38.21           59.0%             78.3%        21.7%   \n",
      "\n",
      "          dream_11_points  Boundaries  \n",
      "Team BT                                \n",
      "RR   LHB              118          16  \n",
      "     LHB              209          29  \n",
      "GT   RHB              251          33  \n",
      "     RHB              263          39  \n"
     ]
    }
   ],
   "source": [
    "# Index new_powerplay_batting by Team & bt\n",
    "new_powerplay_batting_ind = new_powerplay_batting.set_index([\"Team\",\"BT\"])\n",
    "\n",
    "# List of tuples: (RR,LHB),(GT,RHB)\n",
    "rows_to_keep = [(\"RR\",\"LHB\"),(\"GT\",\"RHB\")]\n",
    "\n",
    "# Subset for rows to keep\n",
    "print(new_powerplay_batting_ind.loc[rows_to_keep])"
   ]
  },
  {
   "cell_type": "markdown",
   "id": "03c33f5a",
   "metadata": {},
   "source": [
    "## Sorting by index values\n",
    "\n",
    "Previously, you changed the order of the rows in a DataFrame by calling .sort_values(). It's also useful to be able to sort by elements in the index. For this, you need to use .sort_index()."
   ]
  },
  {
   "cell_type": "code",
   "execution_count": 75,
   "id": "83afc684",
   "metadata": {},
   "outputs": [
    {
     "name": "stdout",
     "output_type": "stream",
     "text": [
      "                   Player   I    R    B  Outs     Avg      SR  4s  6s    BP4  \\\n",
      "Team BT                                                                        \n",
      "CSK  LHB        DP Conway   7   85   76     3   28.33  111.84   7   4  10.86   \n",
      "     RHB       RD Gaikwad  14  186  164     8   23.25  113.41  20   7   8.20   \n",
      "     RHB       RV Uthappa   9  134  111     5   26.80  120.72  16   5   6.94   \n",
      "DC   LHB        DA Warner  12  225  146     5   45.00  154.11  32   8   4.56   \n",
      "     RHB         MR Marsh   8  115   85     3   38.33  135.29   8   8  10.63   \n",
      "     RHB          PP Shaw  10  217  144     5   43.40  150.69  31   7   4.65   \n",
      "GT   LHB          MS Wade   9  111   91     6   18.50  121.98  19   2   4.79   \n",
      "     RHB     Shubman Gill  16  215  182     6   35.83  118.13  30   3   6.07   \n",
      "     RHB          WP Saha  11  217  162     4   54.25  133.95  32   7   5.06   \n",
      "KKR  LHB          VR Iyer  10  127  121     8   15.88  104.96  12   6  10.08   \n",
      "     RHB        AM Rahane   7   92   95     4   23.00   96.84  10   3   9.50   \n",
      "     RHB          SS Iyer  11  167  118     2   83.50  141.53  25   2   4.72   \n",
      "LSG  LHB        Q de Kock  15  257  188     9   28.56  136.70  26  12   7.23   \n",
      "     RHB         KL Rahul  14  203  196     6   33.83  103.57  18   8  10.89   \n",
      "MI   LHB     Ishan Kishan  14  225  200     4   56.25  112.50  30   5   6.67   \n",
      "     RHB        RG Sharma  14  227  183     9   25.22  124.04  25  12   7.32   \n",
      "PBKS LHB         S Dhawan  14  242  207     6   40.33  116.91  27   8   7.67   \n",
      "     RHB       MA Agarwal   8  145  111     6   24.17  130.63  18   5   6.17   \n",
      "     RHB      JM Bairstow   9  181  106     4   45.25  170.75  25   9   4.24   \n",
      "RCB  LHB       Anuj Rawat   8   77   83     5   15.40   92.77   8   3  10.38   \n",
      "     RHB     F du Plessis  16  201  192     7   28.71  104.69  28   3   6.86   \n",
      "     RHB       RM Patidar   6   87   75     0   87.00  116.00  13   2   5.77   \n",
      "     RHB          V Kohli  13  160  137     8   20.00  116.79  22   3   6.23   \n",
      "RR   LHB       D Padikkal   9  100   97     5   20.00  103.09  14   2   6.93   \n",
      "     LHB      YBK Jaiswal  10  172  124     5   34.40  138.71  21   8   5.90   \n",
      "     RHB       JC Buttler  17  374  280     7   53.43  133.57  43  20   6.51   \n",
      "     RHB        SV Samson  11  123   84     0  123.00  146.43  17   5   4.94   \n",
      "SRH  LHB  Abhishek Sharma  14  255  203     6   42.50  125.62  39   3   5.21   \n",
      "     RHB    KS Williamson  11  110  144     8   13.75   76.39  11   3  13.09   \n",
      "     RHB      RA Tripathi  11  138   97     3   46.00  142.27  16   6   6.06   \n",
      "\n",
      "            BPB  NBSTR Runs From 4's % Runs From Bound % other runs %  \\\n",
      "Team BT                                                                 \n",
      "CSK  LHB   6.91  50.77           32.9%             61.2%        38.8%   \n",
      "     RHB   6.07  46.72           43.0%             65.6%        34.4%   \n",
      "     RHB   5.29  44.44           47.8%             70.1%        29.9%   \n",
      "DC   LHB   3.65  46.23           56.9%             78.2%        21.8%   \n",
      "     RHB   5.31  50.72           27.8%             69.6%        30.4%   \n",
      "     RHB   3.79  48.11           57.1%             76.5%        23.5%   \n",
      "GT   LHB   4.33  32.86           68.5%             79.3%        20.7%   \n",
      "     RHB   5.52  51.68           55.8%             64.2%        35.8%   \n",
      "     RHB   4.15  38.21           59.0%             78.3%        21.7%   \n",
      "KKR  LHB   6.72  41.75           37.8%             66.1%        33.9%   \n",
      "     RHB   7.31  41.46           43.5%             63.0%        37.0%   \n",
      "     RHB   4.37  60.44           59.9%             67.1%        32.9%   \n",
      "LSG  LHB   4.95  54.00           40.5%             68.5%        31.5%   \n",
      "     RHB   7.54  48.82           35.5%             59.1%        40.9%   \n",
      "MI   LHB   5.71  45.45           53.3%             66.7%        33.3%   \n",
      "     RHB   4.95  37.67           44.1%             75.8%        24.2%   \n",
      "PBKS LHB   5.91  50.00           44.6%             64.5%        35.5%   \n",
      "     RHB   4.83  48.86           49.7%             70.3%        29.7%   \n",
      "     RHB   3.12  37.50           55.2%             85.1%        14.9%   \n",
      "RCB  LHB   7.55  37.50           41.6%             64.9%        35.1%   \n",
      "     RHB   6.19  44.10           55.7%             64.7%        35.3%   \n",
      "     RHB   5.00  38.33           59.8%             73.6%        26.4%   \n",
      "     RHB   5.48  48.21           55.0%             66.3%        33.8%   \n",
      "RR   LHB   6.06  39.51           56.0%             68.0%        32.0%   \n",
      "     LHB   4.28  42.11           48.8%             76.7%        23.3%   \n",
      "     RHB   4.44  37.79           46.0%             78.1%        21.9%   \n",
      "     RHB   3.82  40.32           55.3%             79.7%        20.3%   \n",
      "SRH  LHB   4.83  50.31           61.2%             68.2%        31.8%   \n",
      "     RHB  10.29  36.92           40.0%             56.4%        43.6%   \n",
      "     RHB   4.41  50.67           46.4%             72.5%        27.5%   \n",
      "\n",
      "          dream_11_points  Boundaries  \n",
      "Team BT                                \n",
      "CSK  LHB              100          11  \n",
      "     RHB              220          27  \n",
      "     RHB              160          21  \n",
      "DC   LHB              273          40  \n",
      "     RHB              139          16  \n",
      "     RHB              262          38  \n",
      "GT   LHB              134          21  \n",
      "     RHB              251          33  \n",
      "     RHB              263          39  \n",
      "KKR  LHB              151          18  \n",
      "     RHB              108          13  \n",
      "     RHB              196          27  \n",
      "LSG  LHB              307          38  \n",
      "     RHB              237          26  \n",
      "MI   LHB              265          35  \n",
      "     RHB              276          37  \n",
      "PBKS LHB              285          35  \n",
      "     RHB              173          23  \n",
      "     RHB              224          34  \n",
      "RCB  LHB               91          11  \n",
      "     RHB              235          31  \n",
      "     RHB              104          15  \n",
      "     RHB              188          25  \n",
      "RR   LHB              118          16  \n",
      "     LHB              209          29  \n",
      "     RHB              457          63  \n",
      "     RHB              150          22  \n",
      "SRH  LHB              300          42  \n",
      "     RHB              127          14  \n",
      "     RHB              166          22  \n"
     ]
    }
   ],
   "source": [
    "# Sort new_powerplay_batting_ind by index values\n",
    "print(new_powerplay_batting_ind.sort_index())"
   ]
  },
  {
   "cell_type": "code",
   "execution_count": 78,
   "id": "97ce7e74",
   "metadata": {},
   "outputs": [
    {
     "name": "stdout",
     "output_type": "stream",
     "text": [
      "                   Player   I    R    B  Outs     Avg      SR  4s  6s    BP4  \\\n",
      "Team BT                                                                        \n",
      "CSK  LHB        DP Conway   7   85   76     3   28.33  111.84   7   4  10.86   \n",
      "DC   LHB        DA Warner  12  225  146     5   45.00  154.11  32   8   4.56   \n",
      "GT   LHB          MS Wade   9  111   91     6   18.50  121.98  19   2   4.79   \n",
      "KKR  LHB          VR Iyer  10  127  121     8   15.88  104.96  12   6  10.08   \n",
      "LSG  LHB        Q de Kock  15  257  188     9   28.56  136.70  26  12   7.23   \n",
      "MI   LHB     Ishan Kishan  14  225  200     4   56.25  112.50  30   5   6.67   \n",
      "PBKS LHB         S Dhawan  14  242  207     6   40.33  116.91  27   8   7.67   \n",
      "RCB  LHB       Anuj Rawat   8   77   83     5   15.40   92.77   8   3  10.38   \n",
      "RR   LHB       D Padikkal   9  100   97     5   20.00  103.09  14   2   6.93   \n",
      "     LHB      YBK Jaiswal  10  172  124     5   34.40  138.71  21   8   5.90   \n",
      "SRH  LHB  Abhishek Sharma  14  255  203     6   42.50  125.62  39   3   5.21   \n",
      "CSK  RHB       RD Gaikwad  14  186  164     8   23.25  113.41  20   7   8.20   \n",
      "     RHB       RV Uthappa   9  134  111     5   26.80  120.72  16   5   6.94   \n",
      "DC   RHB         MR Marsh   8  115   85     3   38.33  135.29   8   8  10.63   \n",
      "     RHB          PP Shaw  10  217  144     5   43.40  150.69  31   7   4.65   \n",
      "GT   RHB     Shubman Gill  16  215  182     6   35.83  118.13  30   3   6.07   \n",
      "     RHB          WP Saha  11  217  162     4   54.25  133.95  32   7   5.06   \n",
      "KKR  RHB        AM Rahane   7   92   95     4   23.00   96.84  10   3   9.50   \n",
      "     RHB          SS Iyer  11  167  118     2   83.50  141.53  25   2   4.72   \n",
      "LSG  RHB         KL Rahul  14  203  196     6   33.83  103.57  18   8  10.89   \n",
      "MI   RHB        RG Sharma  14  227  183     9   25.22  124.04  25  12   7.32   \n",
      "PBKS RHB       MA Agarwal   8  145  111     6   24.17  130.63  18   5   6.17   \n",
      "     RHB      JM Bairstow   9  181  106     4   45.25  170.75  25   9   4.24   \n",
      "RCB  RHB     F du Plessis  16  201  192     7   28.71  104.69  28   3   6.86   \n",
      "     RHB       RM Patidar   6   87   75     0   87.00  116.00  13   2   5.77   \n",
      "     RHB          V Kohli  13  160  137     8   20.00  116.79  22   3   6.23   \n",
      "RR   RHB       JC Buttler  17  374  280     7   53.43  133.57  43  20   6.51   \n",
      "     RHB        SV Samson  11  123   84     0  123.00  146.43  17   5   4.94   \n",
      "SRH  RHB    KS Williamson  11  110  144     8   13.75   76.39  11   3  13.09   \n",
      "     RHB      RA Tripathi  11  138   97     3   46.00  142.27  16   6   6.06   \n",
      "\n",
      "            BPB  NBSTR Runs From 4's % Runs From Bound % other runs %  \\\n",
      "Team BT                                                                 \n",
      "CSK  LHB   6.91  50.77           32.9%             61.2%        38.8%   \n",
      "DC   LHB   3.65  46.23           56.9%             78.2%        21.8%   \n",
      "GT   LHB   4.33  32.86           68.5%             79.3%        20.7%   \n",
      "KKR  LHB   6.72  41.75           37.8%             66.1%        33.9%   \n",
      "LSG  LHB   4.95  54.00           40.5%             68.5%        31.5%   \n",
      "MI   LHB   5.71  45.45           53.3%             66.7%        33.3%   \n",
      "PBKS LHB   5.91  50.00           44.6%             64.5%        35.5%   \n",
      "RCB  LHB   7.55  37.50           41.6%             64.9%        35.1%   \n",
      "RR   LHB   6.06  39.51           56.0%             68.0%        32.0%   \n",
      "     LHB   4.28  42.11           48.8%             76.7%        23.3%   \n",
      "SRH  LHB   4.83  50.31           61.2%             68.2%        31.8%   \n",
      "CSK  RHB   6.07  46.72           43.0%             65.6%        34.4%   \n",
      "     RHB   5.29  44.44           47.8%             70.1%        29.9%   \n",
      "DC   RHB   5.31  50.72           27.8%             69.6%        30.4%   \n",
      "     RHB   3.79  48.11           57.1%             76.5%        23.5%   \n",
      "GT   RHB   5.52  51.68           55.8%             64.2%        35.8%   \n",
      "     RHB   4.15  38.21           59.0%             78.3%        21.7%   \n",
      "KKR  RHB   7.31  41.46           43.5%             63.0%        37.0%   \n",
      "     RHB   4.37  60.44           59.9%             67.1%        32.9%   \n",
      "LSG  RHB   7.54  48.82           35.5%             59.1%        40.9%   \n",
      "MI   RHB   4.95  37.67           44.1%             75.8%        24.2%   \n",
      "PBKS RHB   4.83  48.86           49.7%             70.3%        29.7%   \n",
      "     RHB   3.12  37.50           55.2%             85.1%        14.9%   \n",
      "RCB  RHB   6.19  44.10           55.7%             64.7%        35.3%   \n",
      "     RHB   5.00  38.33           59.8%             73.6%        26.4%   \n",
      "     RHB   5.48  48.21           55.0%             66.3%        33.8%   \n",
      "RR   RHB   4.44  37.79           46.0%             78.1%        21.9%   \n",
      "     RHB   3.82  40.32           55.3%             79.7%        20.3%   \n",
      "SRH  RHB  10.29  36.92           40.0%             56.4%        43.6%   \n",
      "     RHB   4.41  50.67           46.4%             72.5%        27.5%   \n",
      "\n",
      "          dream_11_points  Boundaries  \n",
      "Team BT                                \n",
      "CSK  LHB              100          11  \n",
      "DC   LHB              273          40  \n",
      "GT   LHB              134          21  \n",
      "KKR  LHB              151          18  \n",
      "LSG  LHB              307          38  \n",
      "MI   LHB              265          35  \n",
      "PBKS LHB              285          35  \n",
      "RCB  LHB               91          11  \n",
      "RR   LHB              118          16  \n",
      "     LHB              209          29  \n",
      "SRH  LHB              300          42  \n",
      "CSK  RHB              220          27  \n",
      "     RHB              160          21  \n",
      "DC   RHB              139          16  \n",
      "     RHB              262          38  \n",
      "GT   RHB              251          33  \n",
      "     RHB              263          39  \n",
      "KKR  RHB              108          13  \n",
      "     RHB              196          27  \n",
      "LSG  RHB              237          26  \n",
      "MI   RHB              276          37  \n",
      "PBKS RHB              173          23  \n",
      "     RHB              224          34  \n",
      "RCB  RHB              235          31  \n",
      "     RHB              104          15  \n",
      "     RHB              188          25  \n",
      "RR   RHB              457          63  \n",
      "     RHB              150          22  \n",
      "SRH  RHB              127          14  \n",
      "     RHB              166          22  \n"
     ]
    }
   ],
   "source": [
    "# Sort temperatures_ind by index values at the city level\n",
    "print(new_powerplay_batting_ind.sort_index(level = [\"BT\"]))"
   ]
  },
  {
   "cell_type": "code",
   "execution_count": 79,
   "id": "3eae9dbe",
   "metadata": {
    "scrolled": true
   },
   "outputs": [
    {
     "name": "stdout",
     "output_type": "stream",
     "text": [
      "                   Player   I    R    B  Outs     Avg      SR  4s  6s    BP4  \\\n",
      "Team BT                                                                        \n",
      "SRH  RHB    KS Williamson  11  110  144     8   13.75   76.39  11   3  13.09   \n",
      "     RHB      RA Tripathi  11  138   97     3   46.00  142.27  16   6   6.06   \n",
      "     LHB  Abhishek Sharma  14  255  203     6   42.50  125.62  39   3   5.21   \n",
      "RR   RHB       JC Buttler  17  374  280     7   53.43  133.57  43  20   6.51   \n",
      "     RHB        SV Samson  11  123   84     0  123.00  146.43  17   5   4.94   \n",
      "     LHB       D Padikkal   9  100   97     5   20.00  103.09  14   2   6.93   \n",
      "     LHB      YBK Jaiswal  10  172  124     5   34.40  138.71  21   8   5.90   \n",
      "RCB  RHB     F du Plessis  16  201  192     7   28.71  104.69  28   3   6.86   \n",
      "     RHB       RM Patidar   6   87   75     0   87.00  116.00  13   2   5.77   \n",
      "     RHB          V Kohli  13  160  137     8   20.00  116.79  22   3   6.23   \n",
      "     LHB       Anuj Rawat   8   77   83     5   15.40   92.77   8   3  10.38   \n",
      "PBKS RHB       MA Agarwal   8  145  111     6   24.17  130.63  18   5   6.17   \n",
      "     RHB      JM Bairstow   9  181  106     4   45.25  170.75  25   9   4.24   \n",
      "     LHB         S Dhawan  14  242  207     6   40.33  116.91  27   8   7.67   \n",
      "MI   RHB        RG Sharma  14  227  183     9   25.22  124.04  25  12   7.32   \n",
      "     LHB     Ishan Kishan  14  225  200     4   56.25  112.50  30   5   6.67   \n",
      "LSG  RHB         KL Rahul  14  203  196     6   33.83  103.57  18   8  10.89   \n",
      "     LHB        Q de Kock  15  257  188     9   28.56  136.70  26  12   7.23   \n",
      "KKR  RHB        AM Rahane   7   92   95     4   23.00   96.84  10   3   9.50   \n",
      "     RHB          SS Iyer  11  167  118     2   83.50  141.53  25   2   4.72   \n",
      "     LHB          VR Iyer  10  127  121     8   15.88  104.96  12   6  10.08   \n",
      "GT   RHB     Shubman Gill  16  215  182     6   35.83  118.13  30   3   6.07   \n",
      "     RHB          WP Saha  11  217  162     4   54.25  133.95  32   7   5.06   \n",
      "     LHB          MS Wade   9  111   91     6   18.50  121.98  19   2   4.79   \n",
      "DC   RHB         MR Marsh   8  115   85     3   38.33  135.29   8   8  10.63   \n",
      "     RHB          PP Shaw  10  217  144     5   43.40  150.69  31   7   4.65   \n",
      "     LHB        DA Warner  12  225  146     5   45.00  154.11  32   8   4.56   \n",
      "CSK  RHB       RD Gaikwad  14  186  164     8   23.25  113.41  20   7   8.20   \n",
      "     RHB       RV Uthappa   9  134  111     5   26.80  120.72  16   5   6.94   \n",
      "     LHB        DP Conway   7   85   76     3   28.33  111.84   7   4  10.86   \n",
      "\n",
      "            BPB  NBSTR Runs From 4's % Runs From Bound % other runs %  \\\n",
      "Team BT                                                                 \n",
      "SRH  RHB  10.29  36.92           40.0%             56.4%        43.6%   \n",
      "     RHB   4.41  50.67           46.4%             72.5%        27.5%   \n",
      "     LHB   4.83  50.31           61.2%             68.2%        31.8%   \n",
      "RR   RHB   4.44  37.79           46.0%             78.1%        21.9%   \n",
      "     RHB   3.82  40.32           55.3%             79.7%        20.3%   \n",
      "     LHB   6.06  39.51           56.0%             68.0%        32.0%   \n",
      "     LHB   4.28  42.11           48.8%             76.7%        23.3%   \n",
      "RCB  RHB   6.19  44.10           55.7%             64.7%        35.3%   \n",
      "     RHB   5.00  38.33           59.8%             73.6%        26.4%   \n",
      "     RHB   5.48  48.21           55.0%             66.3%        33.8%   \n",
      "     LHB   7.55  37.50           41.6%             64.9%        35.1%   \n",
      "PBKS RHB   4.83  48.86           49.7%             70.3%        29.7%   \n",
      "     RHB   3.12  37.50           55.2%             85.1%        14.9%   \n",
      "     LHB   5.91  50.00           44.6%             64.5%        35.5%   \n",
      "MI   RHB   4.95  37.67           44.1%             75.8%        24.2%   \n",
      "     LHB   5.71  45.45           53.3%             66.7%        33.3%   \n",
      "LSG  RHB   7.54  48.82           35.5%             59.1%        40.9%   \n",
      "     LHB   4.95  54.00           40.5%             68.5%        31.5%   \n",
      "KKR  RHB   7.31  41.46           43.5%             63.0%        37.0%   \n",
      "     RHB   4.37  60.44           59.9%             67.1%        32.9%   \n",
      "     LHB   6.72  41.75           37.8%             66.1%        33.9%   \n",
      "GT   RHB   5.52  51.68           55.8%             64.2%        35.8%   \n",
      "     RHB   4.15  38.21           59.0%             78.3%        21.7%   \n",
      "     LHB   4.33  32.86           68.5%             79.3%        20.7%   \n",
      "DC   RHB   5.31  50.72           27.8%             69.6%        30.4%   \n",
      "     RHB   3.79  48.11           57.1%             76.5%        23.5%   \n",
      "     LHB   3.65  46.23           56.9%             78.2%        21.8%   \n",
      "CSK  RHB   6.07  46.72           43.0%             65.6%        34.4%   \n",
      "     RHB   5.29  44.44           47.8%             70.1%        29.9%   \n",
      "     LHB   6.91  50.77           32.9%             61.2%        38.8%   \n",
      "\n",
      "          dream_11_points  Boundaries  \n",
      "Team BT                                \n",
      "SRH  RHB              127          14  \n",
      "     RHB              166          22  \n",
      "     LHB              300          42  \n",
      "RR   RHB              457          63  \n",
      "     RHB              150          22  \n",
      "     LHB              118          16  \n",
      "     LHB              209          29  \n",
      "RCB  RHB              235          31  \n",
      "     RHB              104          15  \n",
      "     RHB              188          25  \n",
      "     LHB               91          11  \n",
      "PBKS RHB              173          23  \n",
      "     RHB              224          34  \n",
      "     LHB              285          35  \n",
      "MI   RHB              276          37  \n",
      "     LHB              265          35  \n",
      "LSG  RHB              237          26  \n",
      "     LHB              307          38  \n",
      "KKR  RHB              108          13  \n",
      "     RHB              196          27  \n",
      "     LHB              151          18  \n",
      "GT   RHB              251          33  \n",
      "     RHB              263          39  \n",
      "     LHB              134          21  \n",
      "DC   RHB              139          16  \n",
      "     RHB              262          38  \n",
      "     LHB              273          40  \n",
      "CSK  RHB              220          27  \n",
      "     RHB              160          21  \n",
      "     LHB              100          11  \n"
     ]
    }
   ],
   "source": [
    "# Sort temperatures_ind by country then descending city\n",
    "print(new_powerplay_batting_ind.sort_index(level = [\"Team\",\"BT\"],ascending = [False,False]))"
   ]
  },
  {
   "cell_type": "markdown",
   "id": "a2286f06",
   "metadata": {},
   "source": [
    "## Slicing index values\n",
    "\n",
    "Slicing lets you select consecutive elements of an object using first:last syntax. DataFrames can be sliced by index values or by row/column number; we'll start with the first case. This involves slicing inside the .loc[] method.\n",
    "\n",
    "Compared to slicing lists, there are a few things to remember.\n",
    "\n",
    "You can only slice an index if the index is sorted (using .sort_index()).\n",
    "To slice at the outer level, first and last can be strings.\n",
    "To slice at inner levels, first and last should be tuples.\n",
    "If you pass a single slice to .loc[], it will slice the rows."
   ]
  },
  {
   "cell_type": "code",
   "execution_count": 83,
   "id": "29470d4e",
   "metadata": {},
   "outputs": [
    {
     "name": "stdout",
     "output_type": "stream",
     "text": [
      "                Player   I    R    B  Outs    Avg      SR  4s  6s    BP4  \\\n",
      "Team BT                                                                    \n",
      "CSK  LHB     DP Conway   7   85   76     3  28.33  111.84   7   4  10.86   \n",
      "     RHB    RD Gaikwad  14  186  164     8  23.25  113.41  20   7   8.20   \n",
      "     RHB    RV Uthappa   9  134  111     5  26.80  120.72  16   5   6.94   \n",
      "DC   LHB     DA Warner  12  225  146     5  45.00  154.11  32   8   4.56   \n",
      "     RHB      MR Marsh   8  115   85     3  38.33  135.29   8   8  10.63   \n",
      "     RHB       PP Shaw  10  217  144     5  43.40  150.69  31   7   4.65   \n",
      "GT   LHB       MS Wade   9  111   91     6  18.50  121.98  19   2   4.79   \n",
      "     RHB  Shubman Gill  16  215  182     6  35.83  118.13  30   3   6.07   \n",
      "     RHB       WP Saha  11  217  162     4  54.25  133.95  32   7   5.06   \n",
      "KKR  LHB       VR Iyer  10  127  121     8  15.88  104.96  12   6  10.08   \n",
      "     RHB     AM Rahane   7   92   95     4  23.00   96.84  10   3   9.50   \n",
      "     RHB       SS Iyer  11  167  118     2  83.50  141.53  25   2   4.72   \n",
      "\n",
      "           BPB  NBSTR Runs From 4's % Runs From Bound % other runs %  \\\n",
      "Team BT                                                                \n",
      "CSK  LHB  6.91  50.77           32.9%             61.2%        38.8%   \n",
      "     RHB  6.07  46.72           43.0%             65.6%        34.4%   \n",
      "     RHB  5.29  44.44           47.8%             70.1%        29.9%   \n",
      "DC   LHB  3.65  46.23           56.9%             78.2%        21.8%   \n",
      "     RHB  5.31  50.72           27.8%             69.6%        30.4%   \n",
      "     RHB  3.79  48.11           57.1%             76.5%        23.5%   \n",
      "GT   LHB  4.33  32.86           68.5%             79.3%        20.7%   \n",
      "     RHB  5.52  51.68           55.8%             64.2%        35.8%   \n",
      "     RHB  4.15  38.21           59.0%             78.3%        21.7%   \n",
      "KKR  LHB  6.72  41.75           37.8%             66.1%        33.9%   \n",
      "     RHB  7.31  41.46           43.5%             63.0%        37.0%   \n",
      "     RHB  4.37  60.44           59.9%             67.1%        32.9%   \n",
      "\n",
      "          dream_11_points  Boundaries  \n",
      "Team BT                                \n",
      "CSK  LHB              100          11  \n",
      "     RHB              220          27  \n",
      "     RHB              160          21  \n",
      "DC   LHB              273          40  \n",
      "     RHB              139          16  \n",
      "     RHB              262          38  \n",
      "GT   LHB              134          21  \n",
      "     RHB              251          33  \n",
      "     RHB              263          39  \n",
      "KKR  LHB              151          18  \n",
      "     RHB              108          13  \n",
      "     RHB              196          27  \n"
     ]
    }
   ],
   "source": [
    "# Sort the index of new_powerplay_batting\n",
    "new_powerplay_batting_srt = new_powerplay_batting_ind.sort_index()\n",
    "\n",
    "# Subset rows from CSK to KKR\n",
    "print(new_powerplay_batting_srt.loc[\"CSK\":\"KKR\"])"
   ]
  },
  {
   "cell_type": "code",
   "execution_count": 85,
   "id": "9df7acd6",
   "metadata": {
    "scrolled": true
   },
   "outputs": [
    {
     "name": "stdout",
     "output_type": "stream",
     "text": [
      "                Player   I    R    B  Outs    Avg      SR  4s  6s    BP4  \\\n",
      "Team BT                                                                    \n",
      "CSK  RHB    RD Gaikwad  14  186  164     8  23.25  113.41  20   7   8.20   \n",
      "     RHB    RV Uthappa   9  134  111     5  26.80  120.72  16   5   6.94   \n",
      "DC   LHB     DA Warner  12  225  146     5  45.00  154.11  32   8   4.56   \n",
      "     RHB      MR Marsh   8  115   85     3  38.33  135.29   8   8  10.63   \n",
      "     RHB       PP Shaw  10  217  144     5  43.40  150.69  31   7   4.65   \n",
      "GT   LHB       MS Wade   9  111   91     6  18.50  121.98  19   2   4.79   \n",
      "     RHB  Shubman Gill  16  215  182     6  35.83  118.13  30   3   6.07   \n",
      "     RHB       WP Saha  11  217  162     4  54.25  133.95  32   7   5.06   \n",
      "KKR  LHB       VR Iyer  10  127  121     8  15.88  104.96  12   6  10.08   \n",
      "\n",
      "           BPB  NBSTR Runs From 4's % Runs From Bound % other runs %  \\\n",
      "Team BT                                                                \n",
      "CSK  RHB  6.07  46.72           43.0%             65.6%        34.4%   \n",
      "     RHB  5.29  44.44           47.8%             70.1%        29.9%   \n",
      "DC   LHB  3.65  46.23           56.9%             78.2%        21.8%   \n",
      "     RHB  5.31  50.72           27.8%             69.6%        30.4%   \n",
      "     RHB  3.79  48.11           57.1%             76.5%        23.5%   \n",
      "GT   LHB  4.33  32.86           68.5%             79.3%        20.7%   \n",
      "     RHB  5.52  51.68           55.8%             64.2%        35.8%   \n",
      "     RHB  4.15  38.21           59.0%             78.3%        21.7%   \n",
      "KKR  LHB  6.72  41.75           37.8%             66.1%        33.9%   \n",
      "\n",
      "          dream_11_points  Boundaries  \n",
      "Team BT                                \n",
      "CSK  RHB              220          27  \n",
      "     RHB              160          21  \n",
      "DC   LHB              273          40  \n",
      "     RHB              139          16  \n",
      "     RHB              262          38  \n",
      "GT   LHB              134          21  \n",
      "     RHB              251          33  \n",
      "     RHB              263          39  \n",
      "KKR  LHB              151          18  \n"
     ]
    }
   ],
   "source": [
    "# Subset rows from CSK, RHB to KKR, LHB\n",
    "print(new_powerplay_batting_srt.loc[(\"CSK\",\"RHB\"):(\"KKR\",\"LHB\")])"
   ]
  },
  {
   "cell_type": "markdown",
   "id": "ab3c8df6",
   "metadata": {},
   "source": [
    "## Slicing in both directions\n",
    "\n",
    "You've seen slicing DataFrames by rows and by columns, but since DataFrames are two-dimensional objects, it is often natural to slice both dimensions at once. That is, by passing two arguments to .loc[], you can subset by rows and columns in one go.\n"
   ]
  },
  {
   "cell_type": "code",
   "execution_count": 97,
   "id": "d972bbc8",
   "metadata": {},
   "outputs": [
    {
     "name": "stdout",
     "output_type": "stream",
     "text": [
      "              Player   I    R    B  Outs    Avg      SR  4s  6s    BP4   BPB  \\\n",
      "Team BT                                                                        \n",
      "CSK  LHB   DP Conway   7   85   76     3  28.33  111.84   7   4  10.86  6.91   \n",
      "     RHB  RD Gaikwad  14  186  164     8  23.25  113.41  20   7   8.20  6.07   \n",
      "     RHB  RV Uthappa   9  134  111     5  26.80  120.72  16   5   6.94  5.29   \n",
      "DC   LHB   DA Warner  12  225  146     5  45.00  154.11  32   8   4.56  3.65   \n",
      "     RHB    MR Marsh   8  115   85     3  38.33  135.29   8   8  10.63  5.31   \n",
      "     RHB     PP Shaw  10  217  144     5  43.40  150.69  31   7   4.65  3.79   \n",
      "\n",
      "          NBSTR Runs From 4's % Runs From Bound % other runs %  \\\n",
      "Team BT                                                          \n",
      "CSK  LHB  50.77           32.9%             61.2%        38.8%   \n",
      "     RHB  46.72           43.0%             65.6%        34.4%   \n",
      "     RHB  44.44           47.8%             70.1%        29.9%   \n",
      "DC   LHB  46.23           56.9%             78.2%        21.8%   \n",
      "     RHB  50.72           27.8%             69.6%        30.4%   \n",
      "     RHB  48.11           57.1%             76.5%        23.5%   \n",
      "\n",
      "          dream_11_points  Boundaries  \n",
      "Team BT                                \n",
      "CSK  LHB              100          11  \n",
      "     RHB              220          27  \n",
      "     RHB              160          21  \n",
      "DC   LHB              273          40  \n",
      "     RHB              139          16  \n",
      "     RHB              262          38  \n",
      "              SR    BPB\n",
      "Team BT                \n",
      "CSK  LHB  111.84   6.91\n",
      "     RHB  113.41   6.07\n",
      "     RHB  120.72   5.29\n",
      "DC   LHB  154.11   3.65\n",
      "     RHB  135.29   5.31\n",
      "     RHB  150.69   3.79\n",
      "GT   LHB  121.98   4.33\n",
      "     RHB  118.13   5.52\n",
      "     RHB  133.95   4.15\n",
      "KKR  LHB  104.96   6.72\n",
      "     RHB   96.84   7.31\n",
      "     RHB  141.53   4.37\n",
      "LSG  LHB  136.70   4.95\n",
      "     RHB  103.57   7.54\n",
      "MI   LHB  112.50   5.71\n",
      "     RHB  124.04   4.95\n",
      "PBKS LHB  116.91   5.91\n",
      "     RHB  130.63   4.83\n",
      "     RHB  170.75   3.12\n",
      "RCB  LHB   92.77   7.55\n",
      "     RHB  104.69   6.19\n",
      "     RHB  116.00   5.00\n",
      "     RHB  116.79   5.48\n",
      "RR   LHB  103.09   6.06\n",
      "     LHB  138.71   4.28\n",
      "     RHB  133.57   4.44\n",
      "     RHB  146.43   3.82\n",
      "SRH  LHB  125.62   4.83\n",
      "     RHB   76.39  10.29\n",
      "     RHB  142.27   4.41\n",
      "              SR   BPB\n",
      "Team BT               \n",
      "CSK  LHB  111.84  6.91\n",
      "     RHB  113.41  6.07\n",
      "     RHB  120.72  5.29\n",
      "DC   LHB  154.11  3.65\n",
      "     RHB  135.29  5.31\n",
      "     RHB  150.69  3.79\n",
      "GT   LHB  121.98  4.33\n",
      "     RHB  118.13  5.52\n",
      "     RHB  133.95  4.15\n",
      "KKR  LHB  104.96  6.72\n"
     ]
    }
   ],
   "source": [
    "# Subset rows from CSK,LHB to DC,RHB\n",
    "print(new_powerplay_batting_srt.loc[(\"CSK\",\"LHB\"):(\"DC\",\"RHB\")])\n",
    "\n",
    "# Subset columns SR AND BPB\n",
    "print(new_powerplay_batting_srt.loc[:,[\"SR\",\"BPB\"]])\n",
    "\n",
    "# Subset in both directions at once\n",
    "print(new_powerplay_batting_srt.loc[(\"CSK\",\"LHB\"):(\"KKR\",\"LHB\"),[\"SR\",\"BPB\"]])"
   ]
  },
  {
   "cell_type": "code",
   "execution_count": 91,
   "id": "f8cdb926",
   "metadata": {},
   "outputs": [
    {
     "name": "stdout",
     "output_type": "stream",
     "text": [
      "              Player   I    R    B  Outs    Avg      SR  4s  6s    BP4   BPB  \\\n",
      "Team BT                                                                        \n",
      "CSK  LHB   DP Conway   7   85   76     3  28.33  111.84   7   4  10.86  6.91   \n",
      "     RHB  RD Gaikwad  14  186  164     8  23.25  113.41  20   7   8.20  6.07   \n",
      "     RHB  RV Uthappa   9  134  111     5  26.80  120.72  16   5   6.94  5.29   \n",
      "DC   LHB   DA Warner  12  225  146     5  45.00  154.11  32   8   4.56  3.65   \n",
      "     RHB    MR Marsh   8  115   85     3  38.33  135.29   8   8  10.63  5.31   \n",
      "     RHB     PP Shaw  10  217  144     5  43.40  150.69  31   7   4.65  3.79   \n",
      "\n",
      "          NBSTR Runs From 4's % Runs From Bound % other runs %  \\\n",
      "Team BT                                                          \n",
      "CSK  LHB  50.77           32.9%             61.2%        38.8%   \n",
      "     RHB  46.72           43.0%             65.6%        34.4%   \n",
      "     RHB  44.44           47.8%             70.1%        29.9%   \n",
      "DC   LHB  46.23           56.9%             78.2%        21.8%   \n",
      "     RHB  50.72           27.8%             69.6%        30.4%   \n",
      "     RHB  48.11           57.1%             76.5%        23.5%   \n",
      "\n",
      "          dream_11_points  Boundaries  \n",
      "Team BT                                \n",
      "CSK  LHB              100          11  \n",
      "     RHB              220          27  \n",
      "     RHB              160          21  \n",
      "DC   LHB              273          40  \n",
      "     RHB              139          16  \n",
      "     RHB              262          38  \n"
     ]
    }
   ],
   "source": [
    "# Subset rows from CSK,LHB to DC,RHB\n",
    "print(new_powerplay_batting_srt.loc[(\"CSK\",\"LHB\"):(\"DC\",\"RHB\")])"
   ]
  },
  {
   "cell_type": "code",
   "execution_count": 94,
   "id": "c5657bc4",
   "metadata": {},
   "outputs": [
    {
     "name": "stdout",
     "output_type": "stream",
     "text": [
      "              SR    BPB\n",
      "Team BT                \n",
      "CSK  LHB  111.84   6.91\n",
      "     RHB  113.41   6.07\n",
      "     RHB  120.72   5.29\n",
      "DC   LHB  154.11   3.65\n",
      "     RHB  135.29   5.31\n",
      "     RHB  150.69   3.79\n",
      "GT   LHB  121.98   4.33\n",
      "     RHB  118.13   5.52\n",
      "     RHB  133.95   4.15\n",
      "KKR  LHB  104.96   6.72\n",
      "     RHB   96.84   7.31\n",
      "     RHB  141.53   4.37\n",
      "LSG  LHB  136.70   4.95\n",
      "     RHB  103.57   7.54\n",
      "MI   LHB  112.50   5.71\n",
      "     RHB  124.04   4.95\n",
      "PBKS LHB  116.91   5.91\n",
      "     RHB  130.63   4.83\n",
      "     RHB  170.75   3.12\n",
      "RCB  LHB   92.77   7.55\n",
      "     RHB  104.69   6.19\n",
      "     RHB  116.00   5.00\n",
      "     RHB  116.79   5.48\n",
      "RR   LHB  103.09   6.06\n",
      "     LHB  138.71   4.28\n",
      "     RHB  133.57   4.44\n",
      "     RHB  146.43   3.82\n",
      "SRH  LHB  125.62   4.83\n",
      "     RHB   76.39  10.29\n",
      "     RHB  142.27   4.41\n"
     ]
    }
   ],
   "source": [
    "# Subset columns SR AND BPB\n",
    "print(new_powerplay_batting_srt.loc[:,[\"SR\",\"BPB\"]])"
   ]
  },
  {
   "cell_type": "markdown",
   "id": "e27a90ad",
   "metadata": {},
   "source": [
    "## Subsetting by row/column number"
   ]
  },
  {
   "cell_type": "code",
   "execution_count": 98,
   "id": "e85e021c",
   "metadata": {},
   "outputs": [
    {
     "name": "stdout",
     "output_type": "stream",
     "text": [
      "Q de Kock\n",
      "  Team         Player   BT   I    R    B  Outs    Avg      SR  4s  6s    BP4  \\\n",
      "0  SRH  KS Williamson  RHB  11  110  144     8  13.75   76.39  11   3  13.09   \n",
      "1  RCB     Anuj Rawat  LHB   8   77   83     5  15.40   92.77   8   3  10.38   \n",
      "2  KKR      AM Rahane  RHB   7   92   95     4  23.00   96.84  10   3   9.50   \n",
      "3   RR     D Padikkal  LHB   9  100   97     5  20.00  103.09  14   2   6.93   \n",
      "4  LSG       KL Rahul  RHB  14  203  196     6  33.83  103.57  18   8  10.89   \n",
      "\n",
      "     BPB  NBSTR Runs From 4's % Runs From Bound % other runs %  \\\n",
      "0  10.29  36.92           40.0%             56.4%        43.6%   \n",
      "1   7.55  37.50           41.6%             64.9%        35.1%   \n",
      "2   7.31  41.46           43.5%             63.0%        37.0%   \n",
      "3   6.06  39.51           56.0%             68.0%        32.0%   \n",
      "4   7.54  48.82           35.5%             59.1%        40.9%   \n",
      "\n",
      "   dream_11_points  Boundaries  \n",
      "0              127          14  \n",
      "1               91          11  \n",
      "2              108          13  \n",
      "3              118          16  \n",
      "4              237          26  \n",
      "     BT   I\n",
      "0   RHB  11\n",
      "1   LHB   8\n",
      "2   RHB   7\n",
      "3   LHB   9\n",
      "4   RHB  14\n",
      "5   RHB  16\n",
      "6   LHB  10\n",
      "7   LHB   7\n",
      "8   LHB  14\n",
      "9   RHB  14\n",
      "10  RHB   6\n",
      "11  RHB  13\n",
      "12  LHB  14\n",
      "13  RHB  16\n",
      "14  RHB   9\n",
      "15  LHB   9\n",
      "16  RHB  14\n",
      "17  LHB  14\n",
      "18  RHB   8\n",
      "19  RHB  17\n",
      "20  RHB  11\n",
      "21  RHB   8\n",
      "22  LHB  15\n",
      "23  LHB  10\n",
      "24  RHB  11\n",
      "25  RHB  11\n",
      "26  RHB  11\n",
      "27  RHB  10\n",
      "28  LHB  12\n",
      "29  RHB   9\n",
      "    BT   I\n",
      "0  RHB  11\n",
      "1  LHB   8\n",
      "2  RHB   7\n",
      "3  LHB   9\n",
      "4  RHB  14\n"
     ]
    }
   ],
   "source": [
    "# Get 23rd row, 2nd column (index 22, 1)\n",
    "print(new_powerplay_batting.iloc[22,1])\n",
    "\n",
    "# Use slicing to get the first 5 rows\n",
    "print(new_powerplay_batting.iloc[0:5,:])\n",
    "\n",
    "# Use slicing to get columns 3 to 4\n",
    "print(new_powerplay_batting.iloc[:,2:4])\n",
    "\n",
    "# Use slicing in both directions at once\n",
    "print(new_powerplay_batting.iloc[0:5,2:4])"
   ]
  },
  {
   "cell_type": "code",
   "execution_count": null,
   "id": "15a52301",
   "metadata": {},
   "outputs": [],
   "source": [
    "# create scatter plot for Players Average and strikerate in middle overs batting\n",
    "plt.style.use(\"seaborn\")\n",
    "fig = plt.figure(figsize=(12,4))\n",
    "x = middle_overs_batters[\"Avg\"]\n",
    "y = middle_overs_batters[\"SR\"]\n",
    "plt.scatter(x,y,c=colors,s=100)\n",
    "plt.title(\"Players Average and strike rate in Middle Overs of ipl 2022\")\n",
    "plt.xlabel(\"Players Average Runs Per Wicket in Middle Overs\")\n",
    "plt.ylabel(\"Players strike rate in Middle Overs\")\n",
    "for i, label in enumerate(middle_overs_batters['Player']):\n",
    "    plt.annotate(label,(x[i], y[i]))\n",
    "plt.show()"
   ]
  }
 ],
 "metadata": {
  "kernelspec": {
   "display_name": "Python 3 (ipykernel)",
   "language": "python",
   "name": "python3"
  },
  "language_info": {
   "codemirror_mode": {
    "name": "ipython",
    "version": 3
   },
   "file_extension": ".py",
   "mimetype": "text/x-python",
   "name": "python",
   "nbconvert_exporter": "python",
   "pygments_lexer": "ipython3",
   "version": "3.9.12"
  }
 },
 "nbformat": 4,
 "nbformat_minor": 5
}
